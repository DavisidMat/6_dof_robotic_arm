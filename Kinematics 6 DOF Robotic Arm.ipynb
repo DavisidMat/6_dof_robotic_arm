{
 "cells": [
  {
   "cell_type": "code",
   "execution_count": 8,
   "id": "dbd7cdf3",
   "metadata": {},
   "outputs": [],
   "source": [
    "import sympy as sym\n",
    "import numpy as num\n",
    "import plotly as plot\n"
   ]
  },
  {
   "cell_type": "code",
   "execution_count": 44,
   "id": "640bbb9f",
   "metadata": {},
   "outputs": [],
   "source": [
    "class Invalid_Input_Argument(Exception):\n",
    "    \"\"\"\n",
    "    This is a custom exception class to detect invalid input argument values\n",
    "    \"\"\"\n",
    "    def __init__(self, function_argument: str, function_name: str) -> None:\n",
    "        \"\"\"\n",
    "        Parameters\n",
    "        ----------\n",
    "        function_argument:str\n",
    "            A string containing the name of the function parameter to specify.\n",
    "        function_name:str\n",
    "            A string containing the name of the function which contains the parameter of interest.\n",
    "        \"\"\"\n",
    "        print(f\"Invalid input argument value for argument \\\"{function_argument}\\\"\")\n",
    "        print(f\"calling the method: \\\"{function_name}.help\\(\\)\\\", displays the function \"\n",
    "              \"documentation and its expected input argument values\")\n",
    "\n",
    "def homogeneous_transformation_matrix(axis_rotation: str, rotation_displacement: int or float, origin_displacement: tuple or list):\n",
    "    \"\"\"\n",
    "    Parameters\n",
    "    ----------\n",
    "    axis_rotation:str\n",
    "        A string specifying the axis of rotation. Allowed input values: x, y, z.\n",
    "    rotation_displacement:int or float\n",
    "        A number or a sympy symbolic variable specifying the angular displacement of the rotation in degrees.\n",
    "    origin_displacement:tuple or list\n",
    "        A tuple or list containing in order the x, y and z axis displacement of the relative origin.\n",
    "        \n",
    "    Returns\n",
    "    -------\n",
    "    \n",
    "    \"\"\"\n",
    "    displacement_axis_x, displacement_axis_y, displacement_axis_z = origin_displacement[0], origin_displacement[1], origin_displacement[2] \n",
    "    rev_angle = rotation_displacement \n",
    "\n",
    "    # Elemental rotation matrices\n",
    "    if (axis_rotation == 'x') or (axis_rotation == 'X'):\n",
    "        # Relative origin rotation with respect to x axis.\n",
    "        rotation_matrix = sym.Matrix([[1, 0, 0],\n",
    "                                    [0, sym.cos(rev_angle), -sym.sin(rev_angle)],\n",
    "                                    [0, sym.sin(rev_angle), sym.cos(rev_angle)]])\n",
    "    elif (axis_rotation == 'y') or (axis_rotation == 'Y'):\n",
    "        # Relative origin rotation with respect to y axis.\n",
    "        rotation_matrix = sym.Matrix([[sym.cos(rev_angle), 0, sym.sin(rev_angle)],\n",
    "                                    [0, 1, 0],\n",
    "                                    [-sym.sin(rev_angle), 0, sym.cos(rev_angle)]])\n",
    "    elif (axis_rotation == 'z') or (axis_rotation == 'Z'):\n",
    "        # Relative origin rotation with respect to z axis.\n",
    "        rotation_matrix = sym.Matrix([[sym.cos(rev_angle), -sym.sin(rev_angle), 0],\n",
    "                                    [sym.sin(rev_angle), sym.cos(rev_angle), 0],\n",
    "                                    [0, 0, 1]])\n",
    "    else:\n",
    "        # Breaks the function execution\n",
    "        raise Invalid_Input_Argument(\"axis_rotation\", \"homogeneous_transformation_matrix\")\n",
    "        \n",
    "    translation_matrix = sym.Matrix([[displacement_axis_x],\n",
    "                                    [displacement_axis_y],\n",
    "                                    [displacement_axis_z]])\n",
    "    \n",
    "    # This part creates the shape of the homogeneous transformation matrix\n",
    "    transformation_matrix = sym.zeros(4, 4)\n",
    "    transformation_matrix[:3, 3] = translation_matrix\n",
    "    transformation_matrix[:3, :3] = rotation_matrix\n",
    "    transformation_matrix[3, 3] = 1\n",
    "    \n",
    "    return transformation_matrix\n",
    "    \n"
   ]
  },
  {
   "cell_type": "code",
   "execution_count": 45,
   "id": "855ec90f",
   "metadata": {},
   "outputs": [
    {
     "name": "stdout",
     "output_type": "stream",
     "text": [
      "uwu\n",
      "Main function\n"
     ]
    },
    {
     "data": {
      "text/latex": [
       "$\\displaystyle \\left[\\begin{matrix}1 & 0 & 0 & x_{o}\\\\0 & \\cos{\\left(\\theta \\right)} & - \\sin{\\left(\\theta \\right)} & y_{o}\\\\0 & \\sin{\\left(\\theta \\right)} & \\cos{\\left(\\theta \\right)} & z_{o}\\\\0 & 0 & 0 & 1\\end{matrix}\\right]$"
      ],
      "text/plain": [
       "Matrix([\n",
       "[1,          0,           0, x_o],\n",
       "[0, cos(theta), -sin(theta), y_o],\n",
       "[0, sin(theta),  cos(theta), z_o],\n",
       "[0,          0,           0,   1]])"
      ]
     },
     "metadata": {},
     "output_type": "display_data"
    }
   ],
   "source": [
    "print(\"uwu\")\n",
    "try:\n",
    "    print(\"Main function\")\n",
    "    x_offset, y_offset, z_offset = sym.symbols(\"x_o, y_o, z_o\") \n",
    "    angle_I, angle_II, angle_III, angle_IV, angle_V, angle_VI = sym.symbols(\"theta, sigma, omega, alpha, beta, gamma\") \n",
    "    matrix_I = homogeneous_transformation_matrix(\"x\", angle_I, (x_offset, y_offset, z_offset))\n",
    "    \n",
    "    display(matrix_I)\n",
    "    \n",
    "except Invalid_Input_Argument:\n",
    "    print(\"oops\")\n",
    "    #continue\n",
    "\n"
   ]
  },
  {
   "cell_type": "code",
   "execution_count": 69,
   "id": "b510b3af",
   "metadata": {},
   "outputs": [
    {
     "name": "stdout",
     "output_type": "stream",
     "text": [
      "uwu\n",
      "Example\n",
      "T_1_to_0\n"
     ]
    },
    {
     "data": {
      "text/latex": [
       "$\\displaystyle \\left[\\begin{matrix}1 & 0 & 0 & L_{0}\\\\0 & 1 & 0 & 0\\\\0 & 0 & 1 & D_{1}\\\\0 & 0 & 0 & 1\\end{matrix}\\right]$"
      ],
      "text/plain": [
       "Matrix([\n",
       "[1, 0, 0, L_0],\n",
       "[0, 1, 0,   0],\n",
       "[0, 0, 1, D_1],\n",
       "[0, 0, 0,   1]])"
      ]
     },
     "metadata": {},
     "output_type": "display_data"
    },
    {
     "name": "stdout",
     "output_type": "stream",
     "text": [
      "T_2_to_1\n"
     ]
    },
    {
     "data": {
      "text/latex": [
       "$\\displaystyle \\left[\\begin{matrix}\\cos{\\left(\\theta_{2} \\right)} & \\sin{\\left(\\theta_{2} \\right)} & 0 & 0\\\\0 & 0 & -1 & L_{2}\\\\- \\sin{\\left(\\theta_{2} \\right)} & \\cos{\\left(\\theta_{2} \\right)} & 0 & 0\\\\0 & 0 & 0 & 1\\end{matrix}\\right]$"
      ],
      "text/plain": [
       "Matrix([\n",
       "[ cos(theta_2), sin(theta_2),  0,   0],\n",
       "[            0,            0, -1, L_2],\n",
       "[-sin(theta_2), cos(theta_2),  0,   0],\n",
       "[            0,            0,  0,   1]])"
      ]
     },
     "metadata": {},
     "output_type": "display_data"
    },
    {
     "name": "stdout",
     "output_type": "stream",
     "text": [
      "T_3_to_2\n"
     ]
    },
    {
     "data": {
      "text/latex": [
       "$\\displaystyle \\left[\\begin{matrix}\\cos{\\left(\\theta_{3} \\right)} & - \\sin{\\left(\\theta_{3} \\right)} & 0 & 0\\\\0 & 0 & 1 & - L_{3}\\\\- \\sin{\\left(\\theta_{3} \\right)} & - \\cos{\\left(\\theta_{3} \\right)} & 0 & 0\\\\0 & 0 & 0 & 1\\end{matrix}\\right]$"
      ],
      "text/plain": [
       "Matrix([\n",
       "[ cos(theta_3), -sin(theta_3), 0,    0],\n",
       "[            0,             0, 1, -L_3],\n",
       "[-sin(theta_3), -cos(theta_3), 0,    0],\n",
       "[            0,             0, 0,    1]])"
      ]
     },
     "metadata": {},
     "output_type": "display_data"
    },
    {
     "name": "stdout",
     "output_type": "stream",
     "text": [
      "ans\n"
     ]
    },
    {
     "data": {
      "text/latex": [
       "$\\displaystyle \\left[\\begin{matrix}1 & 0 & 0 & L_{0}\\\\0 & 1 & 0 & 0\\\\0 & 0 & 1 & D_{1}\\\\0 & 0 & 0 & 1\\end{matrix}\\right]$"
      ],
      "text/plain": [
       "Matrix([\n",
       "[1, 0, 0, L_0],\n",
       "[0, 1, 0,   0],\n",
       "[0, 0, 1, D_1],\n",
       "[0, 0, 0,   1]])"
      ]
     },
     "metadata": {},
     "output_type": "display_data"
    },
    {
     "data": {
      "text/latex": [
       "$\\displaystyle \\left[\\begin{matrix}L_{0} + x_{o}\\\\y_{o}\\\\D_{1} + z_{o}\\\\1\\end{matrix}\\right]$"
      ],
      "text/plain": [
       "Matrix([\n",
       "[L_0 + x_o],\n",
       "[      y_o],\n",
       "[D_1 + z_o],\n",
       "[        1]])"
      ]
     },
     "metadata": {},
     "output_type": "display_data"
    }
   ],
   "source": [
    "print(\"uwu\")\n",
    "try:\n",
    "    print(\"Example\")\n",
    "    x_offset, y_offset, z_offset = sym.symbols(\"x_o, y_o, z_o\")\n",
    "    deg_to_rad_90 = 90 * (sym.pi/ 180)\n",
    "    L_0, D_1, L_2, L_3 = sym.symbols(\"L_0, D_1, L_2, L_3\") \n",
    "    theta_2, theta_3 = sym.symbols(\"theta_2, theta_3\") \n",
    "    matrix_1_to_0 = homogeneous_transformation_matrix(\"x\", 0, (L_0, 0, D_1))\n",
    "    \n",
    "    matrix_2_to_1_a = homogeneous_transformation_matrix(\"y\", theta_2, (0, 0, 0))\n",
    "    matrix_2_to_1_b = homogeneous_transformation_matrix(\"x\", deg_to_rad_90, (0, L_2, 0))\n",
    "    \n",
    "    matrix_3_to_2_a = homogeneous_transformation_matrix(\"y\", theta_3, (0, 0,  0))\n",
    "    matrix_3_to_2_b = homogeneous_transformation_matrix(\"x\", -deg_to_rad_90, (0, -L_3, 0))\n",
    "    \n",
    "    \n",
    "    \n",
    "    print(\"T_1_to_0\")\n",
    "    display(matrix_1_to_0)\n",
    "    print(\"T_2_to_1\")\n",
    "    display(matrix_2_to_1_a * matrix_2_to_1_b)\n",
    "    print(\"T_3_to_2\")\n",
    "    display(matrix_3_to_2_a * matrix_3_to_2_b)\n",
    "    \n",
    "    print(\"ans\")\n",
    "    transformation = matrix_1_to_0#*matrix_2_to_1_a*matrix_2_to_1_b#*matrix_3_to_2_a * matrix_3_to_2_b\n",
    "    coordinates = sym.Matrix([[x_offset], [y_offset], [z_offset], [1]])\n",
    "    display(transformation)\n",
    "    display(transformation * coordinates)\n",
    "    \n",
    "except Invalid_Input_Argument:\n",
    "    print(\"oops\")\n",
    "    #continue"
   ]
  },
  {
   "cell_type": "code",
   "execution_count": null,
   "id": "ec7e8101",
   "metadata": {},
   "outputs": [],
   "source": []
  }
 ],
 "metadata": {
  "kernelspec": {
   "display_name": "Python 3 (ipykernel)",
   "language": "python",
   "name": "python3"
  },
  "language_info": {
   "codemirror_mode": {
    "name": "ipython",
    "version": 3
   },
   "file_extension": ".py",
   "mimetype": "text/x-python",
   "name": "python",
   "nbconvert_exporter": "python",
   "pygments_lexer": "ipython3",
   "version": "3.10.7"
  }
 },
 "nbformat": 4,
 "nbformat_minor": 5
}
