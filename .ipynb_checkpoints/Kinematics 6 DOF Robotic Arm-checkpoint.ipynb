{
 "cells": [
  {
   "cell_type": "code",
   "execution_count": 3,
   "id": "dbd7cdf3",
   "metadata": {},
   "outputs": [],
   "source": [
    "import sympy as sym\n",
    "import numpy as num\n",
    "import plotly as plot\n"
   ]
  },
  {
   "cell_type": "code",
   "execution_count": 4,
   "id": "640bbb9f",
   "metadata": {},
   "outputs": [],
   "source": [
    "class Invalid_Input_Argument(Exception):\n",
    "    \"\"\"\n",
    "    This is a custom exception class to detect invalid input argument values\n",
    "    \"\"\"\n",
    "    def __init__(self, function_argument: str, function_name: str) -> None:\n",
    "        \"\"\"\n",
    "        Parameters\n",
    "        ----------\n",
    "        function_argument:str\n",
    "            A string containing the name of the function parameter to specify.\n",
    "        function_name:str\n",
    "            A string containing the name of the function which contains the parameter of interest.\n",
    "        \"\"\"\n",
    "        print(f\"Invalid input argument value for argument \\\"{function_argument}\\\"\")\n",
    "        print(f\"calling the method: \\\"{function_name}.help\\(\\)\\\", displays the function \"\n",
    "              \"documentation and its expected input argument values\")\n",
    "\n",
    "def homogeneous_transformation_matrix(axis_rotation: str, rotation_displacement: int or float, origin_displacement: tuple or list):\n",
    "    \"\"\"\n",
    "    Parameters\n",
    "    ----------\n",
    "    axis_rotation:str\n",
    "        A string specifying the axis of rotation. Allowed input values: x, y, z.\n",
    "    rotation_displacement:int or float\n",
    "        A number or a sympy symbolic variable specifying the angular displacement of the rotation in degrees.\n",
    "    origin_displacement:tuple or list\n",
    "        A tuple or list containing in order the x, y and z axis displacement of the relative origin.\n",
    "        \n",
    "    Returns\n",
    "    -------\n",
    "    \n",
    "    \"\"\"\n",
    "    displacement_axis_x, displacement_axis_y, displacement_axis_z = origin_displacement[0], origin_displacement[1], origin_displacement[2] \n",
    "    rev_angle = rotation_displacement \n",
    "\n",
    "    # Elemental rotation matrices\n",
    "    if (axis_rotation == 'x') or (axis_rotation == 'X'):\n",
    "        # Relative origin rotation with respect to x axis.\n",
    "        rotation_matrix = sym.Matrix([[1, 0, 0],\n",
    "                                    [0, sym.cos(rev_angle), -sym.sin(rev_angle)],\n",
    "                                    [0, sym.sin(rev_angle), sym.cos(rev_angle)]])\n",
    "    elif (axis_rotation == 'y') or (axis_rotation == 'Y'):\n",
    "        # Relative origin rotation with respect to y axis.\n",
    "        rotation_matrix = sym.Matrix([[sym.cos(rev_angle), 0, sym.sin(rev_angle)],\n",
    "                                    [0, 1, 0],\n",
    "                                    [-sym.sin(rev_angle), 0, sym.cos(rev_angle)]])\n",
    "    elif (axis_rotation == 'z') or (axis_rotation == 'Z'):\n",
    "        # Relative origin rotation with respect to z axis.\n",
    "        rotation_matrix = sym.Matrix([[sym.cos(rev_angle), -sym.sin(rev_angle), 0],\n",
    "                                    [sym.sin(rev_angle), sym.cos(rev_angle), 0],\n",
    "                                    [0, 0, 1]])\n",
    "    else:\n",
    "        # Breaks the function execution\n",
    "        raise Invalid_Input_Argument(\"axis_rotation\", \"homogeneous_transformation_matrix\")\n",
    "        \n",
    "    translation_matrix = sym.Matrix([[displacement_axis_x],\n",
    "                                    [displacement_axis_y],\n",
    "                                    [displacement_axis_z]])\n",
    "    \n",
    "    # This part creates the shape of the homogeneous transformation matrix\n",
    "    transformation_matrix = sym.zeros(4, 4)\n",
    "    transformation_matrix[:3, 3] = translation_matrix\n",
    "    transformation_matrix[:3, :3] = rotation_matrix\n",
    "    transformation_matrix[3, 3] = 1\n",
    "    \n",
    "    return transformation_matrix\n",
    "    \n"
   ]
  },
  {
   "cell_type": "code",
   "execution_count": 45,
   "id": "855ec90f",
   "metadata": {},
   "outputs": [
    {
     "name": "stdout",
     "output_type": "stream",
     "text": [
      "uwu\n",
      "Main function\n"
     ]
    },
    {
     "data": {
      "text/latex": [
       "$\\displaystyle \\left[\\begin{matrix}1 & 0 & 0 & x_{o}\\\\0 & \\cos{\\left(\\theta \\right)} & - \\sin{\\left(\\theta \\right)} & y_{o}\\\\0 & \\sin{\\left(\\theta \\right)} & \\cos{\\left(\\theta \\right)} & z_{o}\\\\0 & 0 & 0 & 1\\end{matrix}\\right]$"
      ],
      "text/plain": [
       "Matrix([\n",
       "[1,          0,           0, x_o],\n",
       "[0, cos(theta), -sin(theta), y_o],\n",
       "[0, sin(theta),  cos(theta), z_o],\n",
       "[0,          0,           0,   1]])"
      ]
     },
     "metadata": {},
     "output_type": "display_data"
    }
   ],
   "source": [
    "print(\"uwu\")\n",
    "try:\n",
    "    print(\"Main function\")\n",
    "    x_offset, y_offset, z_offset = sym.symbols(\"x_o, y_o, z_o\") \n",
    "    angle_I, angle_II, angle_III, angle_IV, angle_V, angle_VI = sym.symbols(\"theta, sigma, omega, alpha, beta, gamma\") \n",
    "    matrix_I = homogeneous_transformation_matrix(\"x\", angle_I, (x_offset, y_offset, z_offset))\n",
    "    \n",
    "    display(matrix_I)\n",
    "    \n",
    "except Invalid_Input_Argument:\n",
    "    print(\"oops\")\n",
    "    #continue\n",
    "\n"
   ]
  },
  {
   "cell_type": "code",
   "execution_count": 69,
   "id": "b510b3af",
   "metadata": {},
   "outputs": [
    {
     "name": "stdout",
     "output_type": "stream",
     "text": [
      "uwu\n",
      "Example\n",
      "T_1_to_0\n"
     ]
    },
    {
     "data": {
      "text/latex": [
       "$\\displaystyle \\left[\\begin{matrix}1 & 0 & 0 & L_{0}\\\\0 & 1 & 0 & 0\\\\0 & 0 & 1 & D_{1}\\\\0 & 0 & 0 & 1\\end{matrix}\\right]$"
      ],
      "text/plain": [
       "Matrix([\n",
       "[1, 0, 0, L_0],\n",
       "[0, 1, 0,   0],\n",
       "[0, 0, 1, D_1],\n",
       "[0, 0, 0,   1]])"
      ]
     },
     "metadata": {},
     "output_type": "display_data"
    },
    {
     "name": "stdout",
     "output_type": "stream",
     "text": [
      "T_2_to_1\n"
     ]
    },
    {
     "data": {
      "text/latex": [
       "$\\displaystyle \\left[\\begin{matrix}\\cos{\\left(\\theta_{2} \\right)} & \\sin{\\left(\\theta_{2} \\right)} & 0 & 0\\\\0 & 0 & -1 & L_{2}\\\\- \\sin{\\left(\\theta_{2} \\right)} & \\cos{\\left(\\theta_{2} \\right)} & 0 & 0\\\\0 & 0 & 0 & 1\\end{matrix}\\right]$"
      ],
      "text/plain": [
       "Matrix([\n",
       "[ cos(theta_2), sin(theta_2),  0,   0],\n",
       "[            0,            0, -1, L_2],\n",
       "[-sin(theta_2), cos(theta_2),  0,   0],\n",
       "[            0,            0,  0,   1]])"
      ]
     },
     "metadata": {},
     "output_type": "display_data"
    },
    {
     "name": "stdout",
     "output_type": "stream",
     "text": [
      "T_3_to_2\n"
     ]
    },
    {
     "data": {
      "text/latex": [
       "$\\displaystyle \\left[\\begin{matrix}\\cos{\\left(\\theta_{3} \\right)} & - \\sin{\\left(\\theta_{3} \\right)} & 0 & 0\\\\0 & 0 & 1 & - L_{3}\\\\- \\sin{\\left(\\theta_{3} \\right)} & - \\cos{\\left(\\theta_{3} \\right)} & 0 & 0\\\\0 & 0 & 0 & 1\\end{matrix}\\right]$"
      ],
      "text/plain": [
       "Matrix([\n",
       "[ cos(theta_3), -sin(theta_3), 0,    0],\n",
       "[            0,             0, 1, -L_3],\n",
       "[-sin(theta_3), -cos(theta_3), 0,    0],\n",
       "[            0,             0, 0,    1]])"
      ]
     },
     "metadata": {},
     "output_type": "display_data"
    },
    {
     "name": "stdout",
     "output_type": "stream",
     "text": [
      "ans\n"
     ]
    },
    {
     "data": {
      "text/latex": [
       "$\\displaystyle \\left[\\begin{matrix}1 & 0 & 0 & L_{0}\\\\0 & 1 & 0 & 0\\\\0 & 0 & 1 & D_{1}\\\\0 & 0 & 0 & 1\\end{matrix}\\right]$"
      ],
      "text/plain": [
       "Matrix([\n",
       "[1, 0, 0, L_0],\n",
       "[0, 1, 0,   0],\n",
       "[0, 0, 1, D_1],\n",
       "[0, 0, 0,   1]])"
      ]
     },
     "metadata": {},
     "output_type": "display_data"
    },
    {
     "data": {
      "text/latex": [
       "$\\displaystyle \\left[\\begin{matrix}L_{0} + x_{o}\\\\y_{o}\\\\D_{1} + z_{o}\\\\1\\end{matrix}\\right]$"
      ],
      "text/plain": [
       "Matrix([\n",
       "[L_0 + x_o],\n",
       "[      y_o],\n",
       "[D_1 + z_o],\n",
       "[        1]])"
      ]
     },
     "metadata": {},
     "output_type": "display_data"
    }
   ],
   "source": [
    "print(\"uwu\")\n",
    "try:\n",
    "    print(\"Example\")\n",
    "    x_offset, y_offset, z_offset = sym.symbols(\"x_o, y_o, z_o\")\n",
    "    deg_to_rad_90 = 90 * (sym.pi/ 180)\n",
    "    L_0, D_1, L_2, L_3 = sym.symbols(\"L_0, D_1, L_2, L_3\") \n",
    "    theta_2, theta_3 = sym.symbols(\"theta_2, theta_3\") \n",
    "    matrix_1_to_0 = homogeneous_transformation_matrix(\"x\", 0, (L_0, 0, D_1))\n",
    "    \n",
    "    matrix_2_to_1_a = homogeneous_transformation_matrix(\"y\", theta_2, (0, 0, 0))\n",
    "    matrix_2_to_1_b = homogeneous_transformation_matrix(\"x\", deg_to_rad_90, (0, L_2, 0))\n",
    "    \n",
    "    matrix_3_to_2_a = homogeneous_transformation_matrix(\"y\", theta_3, (0, 0,  0))\n",
    "    matrix_3_to_2_b = homogeneous_transformation_matrix(\"x\", -deg_to_rad_90, (0, -L_3, 0))\n",
    "    \n",
    "    \n",
    "    \n",
    "    print(\"T_1_to_0\")\n",
    "    display(matrix_1_to_0)\n",
    "    print(\"T_2_to_1\")\n",
    "    display(matrix_2_to_1_a * matrix_2_to_1_b)\n",
    "    print(\"T_3_to_2\")\n",
    "    display(matrix_3_to_2_a * matrix_3_to_2_b)\n",
    "    \n",
    "    print(\"ans\")\n",
    "    transformation = matrix_1_to_0#*matrix_2_to_1_a*matrix_2_to_1_b#*matrix_3_to_2_a * matrix_3_to_2_b\n",
    "    coordinates = sym.Matrix([[x_offset], [y_offset], [z_offset], [1]])\n",
    "    display(transformation)\n",
    "    display(transformation * coordinates)\n",
    "    \n",
    "except Invalid_Input_Argument:\n",
    "    print(\"oops\")\n",
    "    #continue"
   ]
  },
  {
   "cell_type": "code",
   "execution_count": 14,
   "id": "ec7e8101",
   "metadata": {
    "scrolled": true
   },
   "outputs": [
    {
     "name": "stdout",
     "output_type": "stream",
     "text": [
      "uwu\n",
      "Example\n",
      "Matrix I to O\n"
     ]
    },
    {
     "data": {
      "text/latex": [
       "$\\displaystyle \\left[\\begin{matrix}\\cos{\\left(\\theta \\right)} & 0 & \\sin{\\left(\\theta \\right)} & 0\\\\0 & 1 & 0 & L_{A}\\\\- \\sin{\\left(\\theta \\right)} & 0 & \\cos{\\left(\\theta \\right)} & 0\\\\0 & 0 & 0 & 1\\end{matrix}\\right]$"
      ],
      "text/plain": [
       "Matrix([\n",
       "[ cos(theta), 0, sin(theta),   0],\n",
       "[          0, 1,          0, L_A],\n",
       "[-sin(theta), 0, cos(theta),   0],\n",
       "[          0, 0,          0,   1]])"
      ]
     },
     "metadata": {},
     "output_type": "display_data"
    },
    {
     "name": "stdout",
     "output_type": "stream",
     "text": [
      "Matrix II to I\n"
     ]
    },
    {
     "data": {
      "text/latex": [
       "$\\displaystyle \\left[\\begin{matrix}\\cos{\\left(\\sigma \\right)} & - \\sin{\\left(\\sigma \\right)} & 0 & 0\\\\\\sin{\\left(\\sigma \\right)} & \\cos{\\left(\\sigma \\right)} & 0 & L_{B}\\\\0 & 0 & 1 & 0\\\\0 & 0 & 0 & 1\\end{matrix}\\right]$"
      ],
      "text/plain": [
       "Matrix([\n",
       "[cos(sigma), -sin(sigma), 0,   0],\n",
       "[sin(sigma),  cos(sigma), 0, L_B],\n",
       "[         0,           0, 1,   0],\n",
       "[         0,           0, 0,   1]])"
      ]
     },
     "metadata": {},
     "output_type": "display_data"
    },
    {
     "name": "stdout",
     "output_type": "stream",
     "text": [
      "Matrix III to II\n"
     ]
    },
    {
     "data": {
      "text/latex": [
       "$\\displaystyle \\left[\\begin{matrix}\\cos{\\left(\\omega \\right)} & - \\sin{\\left(\\omega \\right)} & 0 & L_{C}\\\\\\sin{\\left(\\omega \\right)} & \\cos{\\left(\\omega \\right)} & 0 & 0\\\\0 & 0 & 1 & 0\\\\0 & 0 & 0 & 1\\end{matrix}\\right]$"
      ],
      "text/plain": [
       "Matrix([\n",
       "[cos(omega), -sin(omega), 0, L_C],\n",
       "[sin(omega),  cos(omega), 0,   0],\n",
       "[         0,           0, 1,   0],\n",
       "[         0,           0, 0,   1]])"
      ]
     },
     "metadata": {},
     "output_type": "display_data"
    },
    {
     "name": "stdout",
     "output_type": "stream",
     "text": [
      "Matrix IV to III\n"
     ]
    },
    {
     "data": {
      "text/latex": [
       "$\\displaystyle \\left[\\begin{matrix}- \\sin{\\left(\\alpha \\right)} & 0 & - \\cos{\\left(\\alpha \\right)} & 0\\\\\\cos{\\left(\\alpha \\right)} & 0 & - \\sin{\\left(\\alpha \\right)} & 0\\\\0 & -1 & 0 & - L_{D} - L_{E}\\\\0 & 0 & 0 & 1\\end{matrix}\\right]$"
      ],
      "text/plain": [
       "Matrix([\n",
       "[-sin(alpha),  0, -cos(alpha),          0],\n",
       "[ cos(alpha),  0, -sin(alpha),          0],\n",
       "[          0, -1,           0, -L_D - L_E],\n",
       "[          0,  0,           0,          1]])"
      ]
     },
     "metadata": {},
     "output_type": "display_data"
    },
    {
     "name": "stdout",
     "output_type": "stream",
     "text": [
      "Matrix V to IV\n"
     ]
    },
    {
     "data": {
      "text/latex": [
       "$\\displaystyle \\left[\\begin{matrix}\\cos{\\left(\\beta \\right)} & 0 & \\sin{\\left(\\beta \\right)} & 0\\\\\\sin{\\left(\\beta \\right)} & 0 & - \\cos{\\left(\\beta \\right)} & 0\\\\0 & 1 & 0 & 0\\\\0 & 0 & 0 & 1\\end{matrix}\\right]$"
      ],
      "text/plain": [
       "Matrix([\n",
       "[cos(beta), 0,  sin(beta), 0],\n",
       "[sin(beta), 0, -cos(beta), 0],\n",
       "[        0, 1,          0, 0],\n",
       "[        0, 0,          0, 1]])"
      ]
     },
     "metadata": {},
     "output_type": "display_data"
    },
    {
     "name": "stdout",
     "output_type": "stream",
     "text": [
      "Matrix VI to V\n"
     ]
    },
    {
     "data": {
      "text/latex": [
       "$\\displaystyle \\left[\\begin{matrix}\\cos{\\left(\\gamma \\right)} & 0 & - \\sin{\\left(\\gamma \\right)} & - L_{F} \\sin{\\left(\\gamma \\right)}\\\\\\sin{\\left(\\gamma \\right)} & 0 & \\cos{\\left(\\gamma \\right)} & L_{F} \\cos{\\left(\\gamma \\right)}\\\\0 & -1 & 0 & 0\\\\0 & 0 & 0 & 1\\end{matrix}\\right]$"
      ],
      "text/plain": [
       "Matrix([\n",
       "[cos(gamma),  0, -sin(gamma), -L_F*sin(gamma)],\n",
       "[sin(gamma),  0,  cos(gamma),  L_F*cos(gamma)],\n",
       "[         0, -1,           0,               0],\n",
       "[         0,  0,           0,               1]])"
      ]
     },
     "metadata": {},
     "output_type": "display_data"
    },
    {
     "name": "stdout",
     "output_type": "stream",
     "text": [
      "Matrix VI to O\n"
     ]
    },
    {
     "data": {
      "text/latex": [
       "$\\displaystyle \\left[\\begin{matrix}\\left(\\left(- \\left(- \\sin{\\left(\\omega \\right)} \\sin{\\left(\\sigma \\right)} \\cos{\\left(\\theta \\right)} + \\cos{\\left(\\omega \\right)} \\cos{\\left(\\sigma \\right)} \\cos{\\left(\\theta \\right)}\\right) \\sin{\\left(\\alpha \\right)} + \\left(- \\sin{\\left(\\omega \\right)} \\cos{\\left(\\sigma \\right)} \\cos{\\left(\\theta \\right)} - \\sin{\\left(\\sigma \\right)} \\cos{\\left(\\omega \\right)} \\cos{\\left(\\theta \\right)}\\right) \\cos{\\left(\\alpha \\right)}\\right) \\cos{\\left(\\beta \\right)} - \\sin{\\left(\\beta \\right)} \\sin{\\left(\\theta \\right)}\\right) \\cos{\\left(\\gamma \\right)} + \\left(- \\left(- \\sin{\\left(\\omega \\right)} \\sin{\\left(\\sigma \\right)} \\cos{\\left(\\theta \\right)} + \\cos{\\left(\\omega \\right)} \\cos{\\left(\\sigma \\right)} \\cos{\\left(\\theta \\right)}\\right) \\cos{\\left(\\alpha \\right)} - \\left(- \\sin{\\left(\\omega \\right)} \\cos{\\left(\\sigma \\right)} \\cos{\\left(\\theta \\right)} - \\sin{\\left(\\sigma \\right)} \\cos{\\left(\\omega \\right)} \\cos{\\left(\\theta \\right)}\\right) \\sin{\\left(\\alpha \\right)}\\right) \\sin{\\left(\\gamma \\right)} & - \\left(- \\left(- \\sin{\\left(\\omega \\right)} \\sin{\\left(\\sigma \\right)} \\cos{\\left(\\theta \\right)} + \\cos{\\left(\\omega \\right)} \\cos{\\left(\\sigma \\right)} \\cos{\\left(\\theta \\right)}\\right) \\sin{\\left(\\alpha \\right)} + \\left(- \\sin{\\left(\\omega \\right)} \\cos{\\left(\\sigma \\right)} \\cos{\\left(\\theta \\right)} - \\sin{\\left(\\sigma \\right)} \\cos{\\left(\\omega \\right)} \\cos{\\left(\\theta \\right)}\\right) \\cos{\\left(\\alpha \\right)}\\right) \\sin{\\left(\\beta \\right)} - \\sin{\\left(\\theta \\right)} \\cos{\\left(\\beta \\right)} & - \\left(\\left(- \\left(- \\sin{\\left(\\omega \\right)} \\sin{\\left(\\sigma \\right)} \\cos{\\left(\\theta \\right)} + \\cos{\\left(\\omega \\right)} \\cos{\\left(\\sigma \\right)} \\cos{\\left(\\theta \\right)}\\right) \\sin{\\left(\\alpha \\right)} + \\left(- \\sin{\\left(\\omega \\right)} \\cos{\\left(\\sigma \\right)} \\cos{\\left(\\theta \\right)} - \\sin{\\left(\\sigma \\right)} \\cos{\\left(\\omega \\right)} \\cos{\\left(\\theta \\right)}\\right) \\cos{\\left(\\alpha \\right)}\\right) \\cos{\\left(\\beta \\right)} - \\sin{\\left(\\beta \\right)} \\sin{\\left(\\theta \\right)}\\right) \\sin{\\left(\\gamma \\right)} + \\left(- \\left(- \\sin{\\left(\\omega \\right)} \\sin{\\left(\\sigma \\right)} \\cos{\\left(\\theta \\right)} + \\cos{\\left(\\omega \\right)} \\cos{\\left(\\sigma \\right)} \\cos{\\left(\\theta \\right)}\\right) \\cos{\\left(\\alpha \\right)} - \\left(- \\sin{\\left(\\omega \\right)} \\cos{\\left(\\sigma \\right)} \\cos{\\left(\\theta \\right)} - \\sin{\\left(\\sigma \\right)} \\cos{\\left(\\omega \\right)} \\cos{\\left(\\theta \\right)}\\right) \\sin{\\left(\\alpha \\right)}\\right) \\cos{\\left(\\gamma \\right)} & L_{C} \\cos{\\left(\\sigma \\right)} \\cos{\\left(\\theta \\right)} - L_{F} \\left(\\left(- \\left(- \\sin{\\left(\\omega \\right)} \\sin{\\left(\\sigma \\right)} \\cos{\\left(\\theta \\right)} + \\cos{\\left(\\omega \\right)} \\cos{\\left(\\sigma \\right)} \\cos{\\left(\\theta \\right)}\\right) \\sin{\\left(\\alpha \\right)} + \\left(- \\sin{\\left(\\omega \\right)} \\cos{\\left(\\sigma \\right)} \\cos{\\left(\\theta \\right)} - \\sin{\\left(\\sigma \\right)} \\cos{\\left(\\omega \\right)} \\cos{\\left(\\theta \\right)}\\right) \\cos{\\left(\\alpha \\right)}\\right) \\cos{\\left(\\beta \\right)} - \\sin{\\left(\\beta \\right)} \\sin{\\left(\\theta \\right)}\\right) \\sin{\\left(\\gamma \\right)} + L_{F} \\left(- \\left(- \\sin{\\left(\\omega \\right)} \\sin{\\left(\\sigma \\right)} \\cos{\\left(\\theta \\right)} + \\cos{\\left(\\omega \\right)} \\cos{\\left(\\sigma \\right)} \\cos{\\left(\\theta \\right)}\\right) \\cos{\\left(\\alpha \\right)} - \\left(- \\sin{\\left(\\omega \\right)} \\cos{\\left(\\sigma \\right)} \\cos{\\left(\\theta \\right)} - \\sin{\\left(\\sigma \\right)} \\cos{\\left(\\omega \\right)} \\cos{\\left(\\theta \\right)}\\right) \\sin{\\left(\\alpha \\right)}\\right) \\cos{\\left(\\gamma \\right)} + \\left(- L_{D} - L_{E}\\right) \\sin{\\left(\\theta \\right)}\\\\\\left(- \\left(- \\sin{\\left(\\omega \\right)} \\sin{\\left(\\sigma \\right)} + \\cos{\\left(\\omega \\right)} \\cos{\\left(\\sigma \\right)}\\right) \\sin{\\left(\\alpha \\right)} - \\left(\\sin{\\left(\\omega \\right)} \\cos{\\left(\\sigma \\right)} + \\sin{\\left(\\sigma \\right)} \\cos{\\left(\\omega \\right)}\\right) \\cos{\\left(\\alpha \\right)}\\right) \\sin{\\left(\\gamma \\right)} + \\left(\\left(- \\sin{\\left(\\omega \\right)} \\sin{\\left(\\sigma \\right)} + \\cos{\\left(\\omega \\right)} \\cos{\\left(\\sigma \\right)}\\right) \\cos{\\left(\\alpha \\right)} - \\left(\\sin{\\left(\\omega \\right)} \\cos{\\left(\\sigma \\right)} + \\sin{\\left(\\sigma \\right)} \\cos{\\left(\\omega \\right)}\\right) \\sin{\\left(\\alpha \\right)}\\right) \\cos{\\left(\\beta \\right)} \\cos{\\left(\\gamma \\right)} & - \\left(\\left(- \\sin{\\left(\\omega \\right)} \\sin{\\left(\\sigma \\right)} + \\cos{\\left(\\omega \\right)} \\cos{\\left(\\sigma \\right)}\\right) \\cos{\\left(\\alpha \\right)} - \\left(\\sin{\\left(\\omega \\right)} \\cos{\\left(\\sigma \\right)} + \\sin{\\left(\\sigma \\right)} \\cos{\\left(\\omega \\right)}\\right) \\sin{\\left(\\alpha \\right)}\\right) \\sin{\\left(\\beta \\right)} & \\left(- \\left(- \\sin{\\left(\\omega \\right)} \\sin{\\left(\\sigma \\right)} + \\cos{\\left(\\omega \\right)} \\cos{\\left(\\sigma \\right)}\\right) \\sin{\\left(\\alpha \\right)} - \\left(\\sin{\\left(\\omega \\right)} \\cos{\\left(\\sigma \\right)} + \\sin{\\left(\\sigma \\right)} \\cos{\\left(\\omega \\right)}\\right) \\cos{\\left(\\alpha \\right)}\\right) \\cos{\\left(\\gamma \\right)} - \\left(\\left(- \\sin{\\left(\\omega \\right)} \\sin{\\left(\\sigma \\right)} + \\cos{\\left(\\omega \\right)} \\cos{\\left(\\sigma \\right)}\\right) \\cos{\\left(\\alpha \\right)} - \\left(\\sin{\\left(\\omega \\right)} \\cos{\\left(\\sigma \\right)} + \\sin{\\left(\\sigma \\right)} \\cos{\\left(\\omega \\right)}\\right) \\sin{\\left(\\alpha \\right)}\\right) \\sin{\\left(\\gamma \\right)} \\cos{\\left(\\beta \\right)} & L_{A} + L_{B} + L_{C} \\sin{\\left(\\sigma \\right)} + L_{F} \\left(- \\left(- \\sin{\\left(\\omega \\right)} \\sin{\\left(\\sigma \\right)} + \\cos{\\left(\\omega \\right)} \\cos{\\left(\\sigma \\right)}\\right) \\sin{\\left(\\alpha \\right)} - \\left(\\sin{\\left(\\omega \\right)} \\cos{\\left(\\sigma \\right)} + \\sin{\\left(\\sigma \\right)} \\cos{\\left(\\omega \\right)}\\right) \\cos{\\left(\\alpha \\right)}\\right) \\cos{\\left(\\gamma \\right)} - L_{F} \\left(\\left(- \\sin{\\left(\\omega \\right)} \\sin{\\left(\\sigma \\right)} + \\cos{\\left(\\omega \\right)} \\cos{\\left(\\sigma \\right)}\\right) \\cos{\\left(\\alpha \\right)} - \\left(\\sin{\\left(\\omega \\right)} \\cos{\\left(\\sigma \\right)} + \\sin{\\left(\\sigma \\right)} \\cos{\\left(\\omega \\right)}\\right) \\sin{\\left(\\alpha \\right)}\\right) \\sin{\\left(\\gamma \\right)} \\cos{\\left(\\beta \\right)}\\\\\\left(\\left(- \\left(\\sin{\\left(\\omega \\right)} \\sin{\\left(\\sigma \\right)} \\sin{\\left(\\theta \\right)} - \\sin{\\left(\\theta \\right)} \\cos{\\left(\\omega \\right)} \\cos{\\left(\\sigma \\right)}\\right) \\sin{\\left(\\alpha \\right)} + \\left(\\sin{\\left(\\omega \\right)} \\sin{\\left(\\theta \\right)} \\cos{\\left(\\sigma \\right)} + \\sin{\\left(\\sigma \\right)} \\sin{\\left(\\theta \\right)} \\cos{\\left(\\omega \\right)}\\right) \\cos{\\left(\\alpha \\right)}\\right) \\cos{\\left(\\beta \\right)} - \\sin{\\left(\\beta \\right)} \\cos{\\left(\\theta \\right)}\\right) \\cos{\\left(\\gamma \\right)} + \\left(- \\left(\\sin{\\left(\\omega \\right)} \\sin{\\left(\\sigma \\right)} \\sin{\\left(\\theta \\right)} - \\sin{\\left(\\theta \\right)} \\cos{\\left(\\omega \\right)} \\cos{\\left(\\sigma \\right)}\\right) \\cos{\\left(\\alpha \\right)} - \\left(\\sin{\\left(\\omega \\right)} \\sin{\\left(\\theta \\right)} \\cos{\\left(\\sigma \\right)} + \\sin{\\left(\\sigma \\right)} \\sin{\\left(\\theta \\right)} \\cos{\\left(\\omega \\right)}\\right) \\sin{\\left(\\alpha \\right)}\\right) \\sin{\\left(\\gamma \\right)} & - \\left(- \\left(\\sin{\\left(\\omega \\right)} \\sin{\\left(\\sigma \\right)} \\sin{\\left(\\theta \\right)} - \\sin{\\left(\\theta \\right)} \\cos{\\left(\\omega \\right)} \\cos{\\left(\\sigma \\right)}\\right) \\sin{\\left(\\alpha \\right)} + \\left(\\sin{\\left(\\omega \\right)} \\sin{\\left(\\theta \\right)} \\cos{\\left(\\sigma \\right)} + \\sin{\\left(\\sigma \\right)} \\sin{\\left(\\theta \\right)} \\cos{\\left(\\omega \\right)}\\right) \\cos{\\left(\\alpha \\right)}\\right) \\sin{\\left(\\beta \\right)} - \\cos{\\left(\\beta \\right)} \\cos{\\left(\\theta \\right)} & - \\left(\\left(- \\left(\\sin{\\left(\\omega \\right)} \\sin{\\left(\\sigma \\right)} \\sin{\\left(\\theta \\right)} - \\sin{\\left(\\theta \\right)} \\cos{\\left(\\omega \\right)} \\cos{\\left(\\sigma \\right)}\\right) \\sin{\\left(\\alpha \\right)} + \\left(\\sin{\\left(\\omega \\right)} \\sin{\\left(\\theta \\right)} \\cos{\\left(\\sigma \\right)} + \\sin{\\left(\\sigma \\right)} \\sin{\\left(\\theta \\right)} \\cos{\\left(\\omega \\right)}\\right) \\cos{\\left(\\alpha \\right)}\\right) \\cos{\\left(\\beta \\right)} - \\sin{\\left(\\beta \\right)} \\cos{\\left(\\theta \\right)}\\right) \\sin{\\left(\\gamma \\right)} + \\left(- \\left(\\sin{\\left(\\omega \\right)} \\sin{\\left(\\sigma \\right)} \\sin{\\left(\\theta \\right)} - \\sin{\\left(\\theta \\right)} \\cos{\\left(\\omega \\right)} \\cos{\\left(\\sigma \\right)}\\right) \\cos{\\left(\\alpha \\right)} - \\left(\\sin{\\left(\\omega \\right)} \\sin{\\left(\\theta \\right)} \\cos{\\left(\\sigma \\right)} + \\sin{\\left(\\sigma \\right)} \\sin{\\left(\\theta \\right)} \\cos{\\left(\\omega \\right)}\\right) \\sin{\\left(\\alpha \\right)}\\right) \\cos{\\left(\\gamma \\right)} & - L_{C} \\sin{\\left(\\theta \\right)} \\cos{\\left(\\sigma \\right)} - L_{F} \\left(\\left(- \\left(\\sin{\\left(\\omega \\right)} \\sin{\\left(\\sigma \\right)} \\sin{\\left(\\theta \\right)} - \\sin{\\left(\\theta \\right)} \\cos{\\left(\\omega \\right)} \\cos{\\left(\\sigma \\right)}\\right) \\sin{\\left(\\alpha \\right)} + \\left(\\sin{\\left(\\omega \\right)} \\sin{\\left(\\theta \\right)} \\cos{\\left(\\sigma \\right)} + \\sin{\\left(\\sigma \\right)} \\sin{\\left(\\theta \\right)} \\cos{\\left(\\omega \\right)}\\right) \\cos{\\left(\\alpha \\right)}\\right) \\cos{\\left(\\beta \\right)} - \\sin{\\left(\\beta \\right)} \\cos{\\left(\\theta \\right)}\\right) \\sin{\\left(\\gamma \\right)} + L_{F} \\left(- \\left(\\sin{\\left(\\omega \\right)} \\sin{\\left(\\sigma \\right)} \\sin{\\left(\\theta \\right)} - \\sin{\\left(\\theta \\right)} \\cos{\\left(\\omega \\right)} \\cos{\\left(\\sigma \\right)}\\right) \\cos{\\left(\\alpha \\right)} - \\left(\\sin{\\left(\\omega \\right)} \\sin{\\left(\\theta \\right)} \\cos{\\left(\\sigma \\right)} + \\sin{\\left(\\sigma \\right)} \\sin{\\left(\\theta \\right)} \\cos{\\left(\\omega \\right)}\\right) \\sin{\\left(\\alpha \\right)}\\right) \\cos{\\left(\\gamma \\right)} + \\left(- L_{D} - L_{E}\\right) \\cos{\\left(\\theta \\right)}\\\\0 & 0 & 0 & 1\\end{matrix}\\right]$"
      ],
      "text/plain": [
       "Matrix([\n",
       "[((-(-sin(omega)*sin(sigma)*cos(theta) + cos(omega)*cos(sigma)*cos(theta))*sin(alpha) + (-sin(omega)*cos(sigma)*cos(theta) - sin(sigma)*cos(omega)*cos(theta))*cos(alpha))*cos(beta) - sin(beta)*sin(theta))*cos(gamma) + (-(-sin(omega)*sin(sigma)*cos(theta) + cos(omega)*cos(sigma)*cos(theta))*cos(alpha) - (-sin(omega)*cos(sigma)*cos(theta) - sin(sigma)*cos(omega)*cos(theta))*sin(alpha))*sin(gamma), -(-(-sin(omega)*sin(sigma)*cos(theta) + cos(omega)*cos(sigma)*cos(theta))*sin(alpha) + (-sin(omega)*cos(sigma)*cos(theta) - sin(sigma)*cos(omega)*cos(theta))*cos(alpha))*sin(beta) - sin(theta)*cos(beta), -((-(-sin(omega)*sin(sigma)*cos(theta) + cos(omega)*cos(sigma)*cos(theta))*sin(alpha) + (-sin(omega)*cos(sigma)*cos(theta) - sin(sigma)*cos(omega)*cos(theta))*cos(alpha))*cos(beta) - sin(beta)*sin(theta))*sin(gamma) + (-(-sin(omega)*sin(sigma)*cos(theta) + cos(omega)*cos(sigma)*cos(theta))*cos(alpha) - (-sin(omega)*cos(sigma)*cos(theta) - sin(sigma)*cos(omega)*cos(theta))*sin(alpha))*cos(gamma), L_C*cos(sigma)*cos(theta) - L_F*((-(-sin(omega)*sin(sigma)*cos(theta) + cos(omega)*cos(sigma)*cos(theta))*sin(alpha) + (-sin(omega)*cos(sigma)*cos(theta) - sin(sigma)*cos(omega)*cos(theta))*cos(alpha))*cos(beta) - sin(beta)*sin(theta))*sin(gamma) + L_F*(-(-sin(omega)*sin(sigma)*cos(theta) + cos(omega)*cos(sigma)*cos(theta))*cos(alpha) - (-sin(omega)*cos(sigma)*cos(theta) - sin(sigma)*cos(omega)*cos(theta))*sin(alpha))*cos(gamma) + (-L_D - L_E)*sin(theta)],\n",
       "[                                                                                                                    (-(-sin(omega)*sin(sigma) + cos(omega)*cos(sigma))*sin(alpha) - (sin(omega)*cos(sigma) + sin(sigma)*cos(omega))*cos(alpha))*sin(gamma) + ((-sin(omega)*sin(sigma) + cos(omega)*cos(sigma))*cos(alpha) - (sin(omega)*cos(sigma) + sin(sigma)*cos(omega))*sin(alpha))*cos(beta)*cos(gamma),                                                                      -((-sin(omega)*sin(sigma) + cos(omega)*cos(sigma))*cos(alpha) - (sin(omega)*cos(sigma) + sin(sigma)*cos(omega))*sin(alpha))*sin(beta),                                                                                                                      (-(-sin(omega)*sin(sigma) + cos(omega)*cos(sigma))*sin(alpha) - (sin(omega)*cos(sigma) + sin(sigma)*cos(omega))*cos(alpha))*cos(gamma) - ((-sin(omega)*sin(sigma) + cos(omega)*cos(sigma))*cos(alpha) - (sin(omega)*cos(sigma) + sin(sigma)*cos(omega))*sin(alpha))*sin(gamma)*cos(beta),                                                                                                                                              L_A + L_B + L_C*sin(sigma) + L_F*(-(-sin(omega)*sin(sigma) + cos(omega)*cos(sigma))*sin(alpha) - (sin(omega)*cos(sigma) + sin(sigma)*cos(omega))*cos(alpha))*cos(gamma) - L_F*((-sin(omega)*sin(sigma) + cos(omega)*cos(sigma))*cos(alpha) - (sin(omega)*cos(sigma) + sin(sigma)*cos(omega))*sin(alpha))*sin(gamma)*cos(beta)],\n",
       "[    ((-(sin(omega)*sin(sigma)*sin(theta) - sin(theta)*cos(omega)*cos(sigma))*sin(alpha) + (sin(omega)*sin(theta)*cos(sigma) + sin(sigma)*sin(theta)*cos(omega))*cos(alpha))*cos(beta) - sin(beta)*cos(theta))*cos(gamma) + (-(sin(omega)*sin(sigma)*sin(theta) - sin(theta)*cos(omega)*cos(sigma))*cos(alpha) - (sin(omega)*sin(theta)*cos(sigma) + sin(sigma)*sin(theta)*cos(omega))*sin(alpha))*sin(gamma),   -(-(sin(omega)*sin(sigma)*sin(theta) - sin(theta)*cos(omega)*cos(sigma))*sin(alpha) + (sin(omega)*sin(theta)*cos(sigma) + sin(sigma)*sin(theta)*cos(omega))*cos(alpha))*sin(beta) - cos(beta)*cos(theta),     -((-(sin(omega)*sin(sigma)*sin(theta) - sin(theta)*cos(omega)*cos(sigma))*sin(alpha) + (sin(omega)*sin(theta)*cos(sigma) + sin(sigma)*sin(theta)*cos(omega))*cos(alpha))*cos(beta) - sin(beta)*cos(theta))*sin(gamma) + (-(sin(omega)*sin(sigma)*sin(theta) - sin(theta)*cos(omega)*cos(sigma))*cos(alpha) - (sin(omega)*sin(theta)*cos(sigma) + sin(sigma)*sin(theta)*cos(omega))*sin(alpha))*cos(gamma),    -L_C*sin(theta)*cos(sigma) - L_F*((-(sin(omega)*sin(sigma)*sin(theta) - sin(theta)*cos(omega)*cos(sigma))*sin(alpha) + (sin(omega)*sin(theta)*cos(sigma) + sin(sigma)*sin(theta)*cos(omega))*cos(alpha))*cos(beta) - sin(beta)*cos(theta))*sin(gamma) + L_F*(-(sin(omega)*sin(sigma)*sin(theta) - sin(theta)*cos(omega)*cos(sigma))*cos(alpha) - (sin(omega)*sin(theta)*cos(sigma) + sin(sigma)*sin(theta)*cos(omega))*sin(alpha))*cos(gamma) + (-L_D - L_E)*cos(theta)],\n",
       "[                                                                                                                                                                                                                                                                                                                                                                                                           0,                                                                                                                                                                                                          0,                                                                                                                                                                                                                                                                                                                                                                                                             0,                                                                                                                                                                                                                                                                                                                                                                                                                                                                          1]])"
      ]
     },
     "metadata": {},
     "output_type": "display_data"
    },
    {
     "name": "stdout",
     "output_type": "stream",
     "text": [
      "Absolute coordinates\n"
     ]
    },
    {
     "data": {
      "text/latex": [
       "$\\displaystyle \\left[\\begin{matrix}L_{C} \\cos{\\left(\\sigma \\right)} \\cos{\\left(\\theta \\right)} - L_{F} \\left(\\left(- \\left(- \\sin{\\left(\\omega \\right)} \\sin{\\left(\\sigma \\right)} \\cos{\\left(\\theta \\right)} + \\cos{\\left(\\omega \\right)} \\cos{\\left(\\sigma \\right)} \\cos{\\left(\\theta \\right)}\\right) \\sin{\\left(\\alpha \\right)} + \\left(- \\sin{\\left(\\omega \\right)} \\cos{\\left(\\sigma \\right)} \\cos{\\left(\\theta \\right)} - \\sin{\\left(\\sigma \\right)} \\cos{\\left(\\omega \\right)} \\cos{\\left(\\theta \\right)}\\right) \\cos{\\left(\\alpha \\right)}\\right) \\cos{\\left(\\beta \\right)} - \\sin{\\left(\\beta \\right)} \\sin{\\left(\\theta \\right)}\\right) \\sin{\\left(\\gamma \\right)} + L_{F} \\left(- \\left(- \\sin{\\left(\\omega \\right)} \\sin{\\left(\\sigma \\right)} \\cos{\\left(\\theta \\right)} + \\cos{\\left(\\omega \\right)} \\cos{\\left(\\sigma \\right)} \\cos{\\left(\\theta \\right)}\\right) \\cos{\\left(\\alpha \\right)} - \\left(- \\sin{\\left(\\omega \\right)} \\cos{\\left(\\sigma \\right)} \\cos{\\left(\\theta \\right)} - \\sin{\\left(\\sigma \\right)} \\cos{\\left(\\omega \\right)} \\cos{\\left(\\theta \\right)}\\right) \\sin{\\left(\\alpha \\right)}\\right) \\cos{\\left(\\gamma \\right)} + x_{o} \\left(\\left(\\left(- \\left(- \\sin{\\left(\\omega \\right)} \\sin{\\left(\\sigma \\right)} \\cos{\\left(\\theta \\right)} + \\cos{\\left(\\omega \\right)} \\cos{\\left(\\sigma \\right)} \\cos{\\left(\\theta \\right)}\\right) \\sin{\\left(\\alpha \\right)} + \\left(- \\sin{\\left(\\omega \\right)} \\cos{\\left(\\sigma \\right)} \\cos{\\left(\\theta \\right)} - \\sin{\\left(\\sigma \\right)} \\cos{\\left(\\omega \\right)} \\cos{\\left(\\theta \\right)}\\right) \\cos{\\left(\\alpha \\right)}\\right) \\cos{\\left(\\beta \\right)} - \\sin{\\left(\\beta \\right)} \\sin{\\left(\\theta \\right)}\\right) \\cos{\\left(\\gamma \\right)} + \\left(- \\left(- \\sin{\\left(\\omega \\right)} \\sin{\\left(\\sigma \\right)} \\cos{\\left(\\theta \\right)} + \\cos{\\left(\\omega \\right)} \\cos{\\left(\\sigma \\right)} \\cos{\\left(\\theta \\right)}\\right) \\cos{\\left(\\alpha \\right)} - \\left(- \\sin{\\left(\\omega \\right)} \\cos{\\left(\\sigma \\right)} \\cos{\\left(\\theta \\right)} - \\sin{\\left(\\sigma \\right)} \\cos{\\left(\\omega \\right)} \\cos{\\left(\\theta \\right)}\\right) \\sin{\\left(\\alpha \\right)}\\right) \\sin{\\left(\\gamma \\right)}\\right) + y_{o} \\left(- \\left(- \\left(- \\sin{\\left(\\omega \\right)} \\sin{\\left(\\sigma \\right)} \\cos{\\left(\\theta \\right)} + \\cos{\\left(\\omega \\right)} \\cos{\\left(\\sigma \\right)} \\cos{\\left(\\theta \\right)}\\right) \\sin{\\left(\\alpha \\right)} + \\left(- \\sin{\\left(\\omega \\right)} \\cos{\\left(\\sigma \\right)} \\cos{\\left(\\theta \\right)} - \\sin{\\left(\\sigma \\right)} \\cos{\\left(\\omega \\right)} \\cos{\\left(\\theta \\right)}\\right) \\cos{\\left(\\alpha \\right)}\\right) \\sin{\\left(\\beta \\right)} - \\sin{\\left(\\theta \\right)} \\cos{\\left(\\beta \\right)}\\right) + z_{o} \\left(- \\left(\\left(- \\left(- \\sin{\\left(\\omega \\right)} \\sin{\\left(\\sigma \\right)} \\cos{\\left(\\theta \\right)} + \\cos{\\left(\\omega \\right)} \\cos{\\left(\\sigma \\right)} \\cos{\\left(\\theta \\right)}\\right) \\sin{\\left(\\alpha \\right)} + \\left(- \\sin{\\left(\\omega \\right)} \\cos{\\left(\\sigma \\right)} \\cos{\\left(\\theta \\right)} - \\sin{\\left(\\sigma \\right)} \\cos{\\left(\\omega \\right)} \\cos{\\left(\\theta \\right)}\\right) \\cos{\\left(\\alpha \\right)}\\right) \\cos{\\left(\\beta \\right)} - \\sin{\\left(\\beta \\right)} \\sin{\\left(\\theta \\right)}\\right) \\sin{\\left(\\gamma \\right)} + \\left(- \\left(- \\sin{\\left(\\omega \\right)} \\sin{\\left(\\sigma \\right)} \\cos{\\left(\\theta \\right)} + \\cos{\\left(\\omega \\right)} \\cos{\\left(\\sigma \\right)} \\cos{\\left(\\theta \\right)}\\right) \\cos{\\left(\\alpha \\right)} - \\left(- \\sin{\\left(\\omega \\right)} \\cos{\\left(\\sigma \\right)} \\cos{\\left(\\theta \\right)} - \\sin{\\left(\\sigma \\right)} \\cos{\\left(\\omega \\right)} \\cos{\\left(\\theta \\right)}\\right) \\sin{\\left(\\alpha \\right)}\\right) \\cos{\\left(\\gamma \\right)}\\right) + \\left(- L_{D} - L_{E}\\right) \\sin{\\left(\\theta \\right)}\\\\L_{A} + L_{B} + L_{C} \\sin{\\left(\\sigma \\right)} + L_{F} \\left(- \\left(- \\sin{\\left(\\omega \\right)} \\sin{\\left(\\sigma \\right)} + \\cos{\\left(\\omega \\right)} \\cos{\\left(\\sigma \\right)}\\right) \\sin{\\left(\\alpha \\right)} - \\left(\\sin{\\left(\\omega \\right)} \\cos{\\left(\\sigma \\right)} + \\sin{\\left(\\sigma \\right)} \\cos{\\left(\\omega \\right)}\\right) \\cos{\\left(\\alpha \\right)}\\right) \\cos{\\left(\\gamma \\right)} - L_{F} \\left(\\left(- \\sin{\\left(\\omega \\right)} \\sin{\\left(\\sigma \\right)} + \\cos{\\left(\\omega \\right)} \\cos{\\left(\\sigma \\right)}\\right) \\cos{\\left(\\alpha \\right)} - \\left(\\sin{\\left(\\omega \\right)} \\cos{\\left(\\sigma \\right)} + \\sin{\\left(\\sigma \\right)} \\cos{\\left(\\omega \\right)}\\right) \\sin{\\left(\\alpha \\right)}\\right) \\sin{\\left(\\gamma \\right)} \\cos{\\left(\\beta \\right)} + x_{o} \\left(\\left(- \\left(- \\sin{\\left(\\omega \\right)} \\sin{\\left(\\sigma \\right)} + \\cos{\\left(\\omega \\right)} \\cos{\\left(\\sigma \\right)}\\right) \\sin{\\left(\\alpha \\right)} - \\left(\\sin{\\left(\\omega \\right)} \\cos{\\left(\\sigma \\right)} + \\sin{\\left(\\sigma \\right)} \\cos{\\left(\\omega \\right)}\\right) \\cos{\\left(\\alpha \\right)}\\right) \\sin{\\left(\\gamma \\right)} + \\left(\\left(- \\sin{\\left(\\omega \\right)} \\sin{\\left(\\sigma \\right)} + \\cos{\\left(\\omega \\right)} \\cos{\\left(\\sigma \\right)}\\right) \\cos{\\left(\\alpha \\right)} - \\left(\\sin{\\left(\\omega \\right)} \\cos{\\left(\\sigma \\right)} + \\sin{\\left(\\sigma \\right)} \\cos{\\left(\\omega \\right)}\\right) \\sin{\\left(\\alpha \\right)}\\right) \\cos{\\left(\\beta \\right)} \\cos{\\left(\\gamma \\right)}\\right) - y_{o} \\left(\\left(- \\sin{\\left(\\omega \\right)} \\sin{\\left(\\sigma \\right)} + \\cos{\\left(\\omega \\right)} \\cos{\\left(\\sigma \\right)}\\right) \\cos{\\left(\\alpha \\right)} - \\left(\\sin{\\left(\\omega \\right)} \\cos{\\left(\\sigma \\right)} + \\sin{\\left(\\sigma \\right)} \\cos{\\left(\\omega \\right)}\\right) \\sin{\\left(\\alpha \\right)}\\right) \\sin{\\left(\\beta \\right)} + z_{o} \\left(\\left(- \\left(- \\sin{\\left(\\omega \\right)} \\sin{\\left(\\sigma \\right)} + \\cos{\\left(\\omega \\right)} \\cos{\\left(\\sigma \\right)}\\right) \\sin{\\left(\\alpha \\right)} - \\left(\\sin{\\left(\\omega \\right)} \\cos{\\left(\\sigma \\right)} + \\sin{\\left(\\sigma \\right)} \\cos{\\left(\\omega \\right)}\\right) \\cos{\\left(\\alpha \\right)}\\right) \\cos{\\left(\\gamma \\right)} - \\left(\\left(- \\sin{\\left(\\omega \\right)} \\sin{\\left(\\sigma \\right)} + \\cos{\\left(\\omega \\right)} \\cos{\\left(\\sigma \\right)}\\right) \\cos{\\left(\\alpha \\right)} - \\left(\\sin{\\left(\\omega \\right)} \\cos{\\left(\\sigma \\right)} + \\sin{\\left(\\sigma \\right)} \\cos{\\left(\\omega \\right)}\\right) \\sin{\\left(\\alpha \\right)}\\right) \\sin{\\left(\\gamma \\right)} \\cos{\\left(\\beta \\right)}\\right)\\\\- L_{C} \\sin{\\left(\\theta \\right)} \\cos{\\left(\\sigma \\right)} - L_{F} \\left(\\left(- \\left(\\sin{\\left(\\omega \\right)} \\sin{\\left(\\sigma \\right)} \\sin{\\left(\\theta \\right)} - \\sin{\\left(\\theta \\right)} \\cos{\\left(\\omega \\right)} \\cos{\\left(\\sigma \\right)}\\right) \\sin{\\left(\\alpha \\right)} + \\left(\\sin{\\left(\\omega \\right)} \\sin{\\left(\\theta \\right)} \\cos{\\left(\\sigma \\right)} + \\sin{\\left(\\sigma \\right)} \\sin{\\left(\\theta \\right)} \\cos{\\left(\\omega \\right)}\\right) \\cos{\\left(\\alpha \\right)}\\right) \\cos{\\left(\\beta \\right)} - \\sin{\\left(\\beta \\right)} \\cos{\\left(\\theta \\right)}\\right) \\sin{\\left(\\gamma \\right)} + L_{F} \\left(- \\left(\\sin{\\left(\\omega \\right)} \\sin{\\left(\\sigma \\right)} \\sin{\\left(\\theta \\right)} - \\sin{\\left(\\theta \\right)} \\cos{\\left(\\omega \\right)} \\cos{\\left(\\sigma \\right)}\\right) \\cos{\\left(\\alpha \\right)} - \\left(\\sin{\\left(\\omega \\right)} \\sin{\\left(\\theta \\right)} \\cos{\\left(\\sigma \\right)} + \\sin{\\left(\\sigma \\right)} \\sin{\\left(\\theta \\right)} \\cos{\\left(\\omega \\right)}\\right) \\sin{\\left(\\alpha \\right)}\\right) \\cos{\\left(\\gamma \\right)} + x_{o} \\left(\\left(\\left(- \\left(\\sin{\\left(\\omega \\right)} \\sin{\\left(\\sigma \\right)} \\sin{\\left(\\theta \\right)} - \\sin{\\left(\\theta \\right)} \\cos{\\left(\\omega \\right)} \\cos{\\left(\\sigma \\right)}\\right) \\sin{\\left(\\alpha \\right)} + \\left(\\sin{\\left(\\omega \\right)} \\sin{\\left(\\theta \\right)} \\cos{\\left(\\sigma \\right)} + \\sin{\\left(\\sigma \\right)} \\sin{\\left(\\theta \\right)} \\cos{\\left(\\omega \\right)}\\right) \\cos{\\left(\\alpha \\right)}\\right) \\cos{\\left(\\beta \\right)} - \\sin{\\left(\\beta \\right)} \\cos{\\left(\\theta \\right)}\\right) \\cos{\\left(\\gamma \\right)} + \\left(- \\left(\\sin{\\left(\\omega \\right)} \\sin{\\left(\\sigma \\right)} \\sin{\\left(\\theta \\right)} - \\sin{\\left(\\theta \\right)} \\cos{\\left(\\omega \\right)} \\cos{\\left(\\sigma \\right)}\\right) \\cos{\\left(\\alpha \\right)} - \\left(\\sin{\\left(\\omega \\right)} \\sin{\\left(\\theta \\right)} \\cos{\\left(\\sigma \\right)} + \\sin{\\left(\\sigma \\right)} \\sin{\\left(\\theta \\right)} \\cos{\\left(\\omega \\right)}\\right) \\sin{\\left(\\alpha \\right)}\\right) \\sin{\\left(\\gamma \\right)}\\right) + y_{o} \\left(- \\left(- \\left(\\sin{\\left(\\omega \\right)} \\sin{\\left(\\sigma \\right)} \\sin{\\left(\\theta \\right)} - \\sin{\\left(\\theta \\right)} \\cos{\\left(\\omega \\right)} \\cos{\\left(\\sigma \\right)}\\right) \\sin{\\left(\\alpha \\right)} + \\left(\\sin{\\left(\\omega \\right)} \\sin{\\left(\\theta \\right)} \\cos{\\left(\\sigma \\right)} + \\sin{\\left(\\sigma \\right)} \\sin{\\left(\\theta \\right)} \\cos{\\left(\\omega \\right)}\\right) \\cos{\\left(\\alpha \\right)}\\right) \\sin{\\left(\\beta \\right)} - \\cos{\\left(\\beta \\right)} \\cos{\\left(\\theta \\right)}\\right) + z_{o} \\left(- \\left(\\left(- \\left(\\sin{\\left(\\omega \\right)} \\sin{\\left(\\sigma \\right)} \\sin{\\left(\\theta \\right)} - \\sin{\\left(\\theta \\right)} \\cos{\\left(\\omega \\right)} \\cos{\\left(\\sigma \\right)}\\right) \\sin{\\left(\\alpha \\right)} + \\left(\\sin{\\left(\\omega \\right)} \\sin{\\left(\\theta \\right)} \\cos{\\left(\\sigma \\right)} + \\sin{\\left(\\sigma \\right)} \\sin{\\left(\\theta \\right)} \\cos{\\left(\\omega \\right)}\\right) \\cos{\\left(\\alpha \\right)}\\right) \\cos{\\left(\\beta \\right)} - \\sin{\\left(\\beta \\right)} \\cos{\\left(\\theta \\right)}\\right) \\sin{\\left(\\gamma \\right)} + \\left(- \\left(\\sin{\\left(\\omega \\right)} \\sin{\\left(\\sigma \\right)} \\sin{\\left(\\theta \\right)} - \\sin{\\left(\\theta \\right)} \\cos{\\left(\\omega \\right)} \\cos{\\left(\\sigma \\right)}\\right) \\cos{\\left(\\alpha \\right)} - \\left(\\sin{\\left(\\omega \\right)} \\sin{\\left(\\theta \\right)} \\cos{\\left(\\sigma \\right)} + \\sin{\\left(\\sigma \\right)} \\sin{\\left(\\theta \\right)} \\cos{\\left(\\omega \\right)}\\right) \\sin{\\left(\\alpha \\right)}\\right) \\cos{\\left(\\gamma \\right)}\\right) + \\left(- L_{D} - L_{E}\\right) \\cos{\\left(\\theta \\right)}\\\\1\\end{matrix}\\right]$"
      ],
      "text/plain": [
       "Matrix([\n",
       "[L_C*cos(sigma)*cos(theta) - L_F*((-(-sin(omega)*sin(sigma)*cos(theta) + cos(omega)*cos(sigma)*cos(theta))*sin(alpha) + (-sin(omega)*cos(sigma)*cos(theta) - sin(sigma)*cos(omega)*cos(theta))*cos(alpha))*cos(beta) - sin(beta)*sin(theta))*sin(gamma) + L_F*(-(-sin(omega)*sin(sigma)*cos(theta) + cos(omega)*cos(sigma)*cos(theta))*cos(alpha) - (-sin(omega)*cos(sigma)*cos(theta) - sin(sigma)*cos(omega)*cos(theta))*sin(alpha))*cos(gamma) + x_o*(((-(-sin(omega)*sin(sigma)*cos(theta) + cos(omega)*cos(sigma)*cos(theta))*sin(alpha) + (-sin(omega)*cos(sigma)*cos(theta) - sin(sigma)*cos(omega)*cos(theta))*cos(alpha))*cos(beta) - sin(beta)*sin(theta))*cos(gamma) + (-(-sin(omega)*sin(sigma)*cos(theta) + cos(omega)*cos(sigma)*cos(theta))*cos(alpha) - (-sin(omega)*cos(sigma)*cos(theta) - sin(sigma)*cos(omega)*cos(theta))*sin(alpha))*sin(gamma)) + y_o*(-(-(-sin(omega)*sin(sigma)*cos(theta) + cos(omega)*cos(sigma)*cos(theta))*sin(alpha) + (-sin(omega)*cos(sigma)*cos(theta) - sin(sigma)*cos(omega)*cos(theta))*cos(alpha))*sin(beta) - sin(theta)*cos(beta)) + z_o*(-((-(-sin(omega)*sin(sigma)*cos(theta) + cos(omega)*cos(sigma)*cos(theta))*sin(alpha) + (-sin(omega)*cos(sigma)*cos(theta) - sin(sigma)*cos(omega)*cos(theta))*cos(alpha))*cos(beta) - sin(beta)*sin(theta))*sin(gamma) + (-(-sin(omega)*sin(sigma)*cos(theta) + cos(omega)*cos(sigma)*cos(theta))*cos(alpha) - (-sin(omega)*cos(sigma)*cos(theta) - sin(sigma)*cos(omega)*cos(theta))*sin(alpha))*cos(gamma)) + (-L_D - L_E)*sin(theta)],\n",
       "[                                                                                                                                                                                                                                                                                                                                                                                                                                                              L_A + L_B + L_C*sin(sigma) + L_F*(-(-sin(omega)*sin(sigma) + cos(omega)*cos(sigma))*sin(alpha) - (sin(omega)*cos(sigma) + sin(sigma)*cos(omega))*cos(alpha))*cos(gamma) - L_F*((-sin(omega)*sin(sigma) + cos(omega)*cos(sigma))*cos(alpha) - (sin(omega)*cos(sigma) + sin(sigma)*cos(omega))*sin(alpha))*sin(gamma)*cos(beta) + x_o*((-(-sin(omega)*sin(sigma) + cos(omega)*cos(sigma))*sin(alpha) - (sin(omega)*cos(sigma) + sin(sigma)*cos(omega))*cos(alpha))*sin(gamma) + ((-sin(omega)*sin(sigma) + cos(omega)*cos(sigma))*cos(alpha) - (sin(omega)*cos(sigma) + sin(sigma)*cos(omega))*sin(alpha))*cos(beta)*cos(gamma)) - y_o*((-sin(omega)*sin(sigma) + cos(omega)*cos(sigma))*cos(alpha) - (sin(omega)*cos(sigma) + sin(sigma)*cos(omega))*sin(alpha))*sin(beta) + z_o*((-(-sin(omega)*sin(sigma) + cos(omega)*cos(sigma))*sin(alpha) - (sin(omega)*cos(sigma) + sin(sigma)*cos(omega))*cos(alpha))*cos(gamma) - ((-sin(omega)*sin(sigma) + cos(omega)*cos(sigma))*cos(alpha) - (sin(omega)*cos(sigma) + sin(sigma)*cos(omega))*sin(alpha))*sin(gamma)*cos(beta))],\n",
       "[             -L_C*sin(theta)*cos(sigma) - L_F*((-(sin(omega)*sin(sigma)*sin(theta) - sin(theta)*cos(omega)*cos(sigma))*sin(alpha) + (sin(omega)*sin(theta)*cos(sigma) + sin(sigma)*sin(theta)*cos(omega))*cos(alpha))*cos(beta) - sin(beta)*cos(theta))*sin(gamma) + L_F*(-(sin(omega)*sin(sigma)*sin(theta) - sin(theta)*cos(omega)*cos(sigma))*cos(alpha) - (sin(omega)*sin(theta)*cos(sigma) + sin(sigma)*sin(theta)*cos(omega))*sin(alpha))*cos(gamma) + x_o*(((-(sin(omega)*sin(sigma)*sin(theta) - sin(theta)*cos(omega)*cos(sigma))*sin(alpha) + (sin(omega)*sin(theta)*cos(sigma) + sin(sigma)*sin(theta)*cos(omega))*cos(alpha))*cos(beta) - sin(beta)*cos(theta))*cos(gamma) + (-(sin(omega)*sin(sigma)*sin(theta) - sin(theta)*cos(omega)*cos(sigma))*cos(alpha) - (sin(omega)*sin(theta)*cos(sigma) + sin(sigma)*sin(theta)*cos(omega))*sin(alpha))*sin(gamma)) + y_o*(-(-(sin(omega)*sin(sigma)*sin(theta) - sin(theta)*cos(omega)*cos(sigma))*sin(alpha) + (sin(omega)*sin(theta)*cos(sigma) + sin(sigma)*sin(theta)*cos(omega))*cos(alpha))*sin(beta) - cos(beta)*cos(theta)) + z_o*(-((-(sin(omega)*sin(sigma)*sin(theta) - sin(theta)*cos(omega)*cos(sigma))*sin(alpha) + (sin(omega)*sin(theta)*cos(sigma) + sin(sigma)*sin(theta)*cos(omega))*cos(alpha))*cos(beta) - sin(beta)*cos(theta))*sin(gamma) + (-(sin(omega)*sin(sigma)*sin(theta) - sin(theta)*cos(omega)*cos(sigma))*cos(alpha) - (sin(omega)*sin(theta)*cos(sigma) + sin(sigma)*sin(theta)*cos(omega))*sin(alpha))*cos(gamma)) + (-L_D - L_E)*cos(theta)],\n",
       "[                                                                                                                                                                                                                                                                                                                                                                                                                                                                                                                                                                                                                                                                                                                                                                                                                                                                                                                                                                                                                                                                                                                                                                                                                                                                                                                                                                                                                                                                                                                                       1]])"
      ]
     },
     "metadata": {},
     "output_type": "display_data"
    },
    {
     "name": "stdout",
     "output_type": "stream",
     "text": [
      "X\n"
     ]
    },
    {
     "data": {
      "text/latex": [
       "$\\displaystyle L_{C} \\cos{\\left(\\sigma \\right)} \\cos{\\left(\\theta \\right)} - L_{F} \\left(\\left(- \\left(- \\sin{\\left(\\omega \\right)} \\sin{\\left(\\sigma \\right)} \\cos{\\left(\\theta \\right)} + \\cos{\\left(\\omega \\right)} \\cos{\\left(\\sigma \\right)} \\cos{\\left(\\theta \\right)}\\right) \\sin{\\left(\\alpha \\right)} + \\left(- \\sin{\\left(\\omega \\right)} \\cos{\\left(\\sigma \\right)} \\cos{\\left(\\theta \\right)} - \\sin{\\left(\\sigma \\right)} \\cos{\\left(\\omega \\right)} \\cos{\\left(\\theta \\right)}\\right) \\cos{\\left(\\alpha \\right)}\\right) \\cos{\\left(\\beta \\right)} - \\sin{\\left(\\beta \\right)} \\sin{\\left(\\theta \\right)}\\right) \\sin{\\left(\\gamma \\right)} + L_{F} \\left(- \\left(- \\sin{\\left(\\omega \\right)} \\sin{\\left(\\sigma \\right)} \\cos{\\left(\\theta \\right)} + \\cos{\\left(\\omega \\right)} \\cos{\\left(\\sigma \\right)} \\cos{\\left(\\theta \\right)}\\right) \\cos{\\left(\\alpha \\right)} - \\left(- \\sin{\\left(\\omega \\right)} \\cos{\\left(\\sigma \\right)} \\cos{\\left(\\theta \\right)} - \\sin{\\left(\\sigma \\right)} \\cos{\\left(\\omega \\right)} \\cos{\\left(\\theta \\right)}\\right) \\sin{\\left(\\alpha \\right)}\\right) \\cos{\\left(\\gamma \\right)} + x_{o} \\left(\\left(\\left(- \\left(- \\sin{\\left(\\omega \\right)} \\sin{\\left(\\sigma \\right)} \\cos{\\left(\\theta \\right)} + \\cos{\\left(\\omega \\right)} \\cos{\\left(\\sigma \\right)} \\cos{\\left(\\theta \\right)}\\right) \\sin{\\left(\\alpha \\right)} + \\left(- \\sin{\\left(\\omega \\right)} \\cos{\\left(\\sigma \\right)} \\cos{\\left(\\theta \\right)} - \\sin{\\left(\\sigma \\right)} \\cos{\\left(\\omega \\right)} \\cos{\\left(\\theta \\right)}\\right) \\cos{\\left(\\alpha \\right)}\\right) \\cos{\\left(\\beta \\right)} - \\sin{\\left(\\beta \\right)} \\sin{\\left(\\theta \\right)}\\right) \\cos{\\left(\\gamma \\right)} + \\left(- \\left(- \\sin{\\left(\\omega \\right)} \\sin{\\left(\\sigma \\right)} \\cos{\\left(\\theta \\right)} + \\cos{\\left(\\omega \\right)} \\cos{\\left(\\sigma \\right)} \\cos{\\left(\\theta \\right)}\\right) \\cos{\\left(\\alpha \\right)} - \\left(- \\sin{\\left(\\omega \\right)} \\cos{\\left(\\sigma \\right)} \\cos{\\left(\\theta \\right)} - \\sin{\\left(\\sigma \\right)} \\cos{\\left(\\omega \\right)} \\cos{\\left(\\theta \\right)}\\right) \\sin{\\left(\\alpha \\right)}\\right) \\sin{\\left(\\gamma \\right)}\\right) + y_{o} \\left(- \\left(- \\left(- \\sin{\\left(\\omega \\right)} \\sin{\\left(\\sigma \\right)} \\cos{\\left(\\theta \\right)} + \\cos{\\left(\\omega \\right)} \\cos{\\left(\\sigma \\right)} \\cos{\\left(\\theta \\right)}\\right) \\sin{\\left(\\alpha \\right)} + \\left(- \\sin{\\left(\\omega \\right)} \\cos{\\left(\\sigma \\right)} \\cos{\\left(\\theta \\right)} - \\sin{\\left(\\sigma \\right)} \\cos{\\left(\\omega \\right)} \\cos{\\left(\\theta \\right)}\\right) \\cos{\\left(\\alpha \\right)}\\right) \\sin{\\left(\\beta \\right)} - \\sin{\\left(\\theta \\right)} \\cos{\\left(\\beta \\right)}\\right) + z_{o} \\left(- \\left(\\left(- \\left(- \\sin{\\left(\\omega \\right)} \\sin{\\left(\\sigma \\right)} \\cos{\\left(\\theta \\right)} + \\cos{\\left(\\omega \\right)} \\cos{\\left(\\sigma \\right)} \\cos{\\left(\\theta \\right)}\\right) \\sin{\\left(\\alpha \\right)} + \\left(- \\sin{\\left(\\omega \\right)} \\cos{\\left(\\sigma \\right)} \\cos{\\left(\\theta \\right)} - \\sin{\\left(\\sigma \\right)} \\cos{\\left(\\omega \\right)} \\cos{\\left(\\theta \\right)}\\right) \\cos{\\left(\\alpha \\right)}\\right) \\cos{\\left(\\beta \\right)} - \\sin{\\left(\\beta \\right)} \\sin{\\left(\\theta \\right)}\\right) \\sin{\\left(\\gamma \\right)} + \\left(- \\left(- \\sin{\\left(\\omega \\right)} \\sin{\\left(\\sigma \\right)} \\cos{\\left(\\theta \\right)} + \\cos{\\left(\\omega \\right)} \\cos{\\left(\\sigma \\right)} \\cos{\\left(\\theta \\right)}\\right) \\cos{\\left(\\alpha \\right)} - \\left(- \\sin{\\left(\\omega \\right)} \\cos{\\left(\\sigma \\right)} \\cos{\\left(\\theta \\right)} - \\sin{\\left(\\sigma \\right)} \\cos{\\left(\\omega \\right)} \\cos{\\left(\\theta \\right)}\\right) \\sin{\\left(\\alpha \\right)}\\right) \\cos{\\left(\\gamma \\right)}\\right) + \\left(- L_{D} - L_{E}\\right) \\sin{\\left(\\theta \\right)}$"
      ],
      "text/plain": [
       "L_C*cos(sigma)*cos(theta) - L_F*((-(-sin(omega)*sin(sigma)*cos(theta) + cos(omega)*cos(sigma)*cos(theta))*sin(alpha) + (-sin(omega)*cos(sigma)*cos(theta) - sin(sigma)*cos(omega)*cos(theta))*cos(alpha))*cos(beta) - sin(beta)*sin(theta))*sin(gamma) + L_F*(-(-sin(omega)*sin(sigma)*cos(theta) + cos(omega)*cos(sigma)*cos(theta))*cos(alpha) - (-sin(omega)*cos(sigma)*cos(theta) - sin(sigma)*cos(omega)*cos(theta))*sin(alpha))*cos(gamma) + x_o*(((-(-sin(omega)*sin(sigma)*cos(theta) + cos(omega)*cos(sigma)*cos(theta))*sin(alpha) + (-sin(omega)*cos(sigma)*cos(theta) - sin(sigma)*cos(omega)*cos(theta))*cos(alpha))*cos(beta) - sin(beta)*sin(theta))*cos(gamma) + (-(-sin(omega)*sin(sigma)*cos(theta) + cos(omega)*cos(sigma)*cos(theta))*cos(alpha) - (-sin(omega)*cos(sigma)*cos(theta) - sin(sigma)*cos(omega)*cos(theta))*sin(alpha))*sin(gamma)) + y_o*(-(-(-sin(omega)*sin(sigma)*cos(theta) + cos(omega)*cos(sigma)*cos(theta))*sin(alpha) + (-sin(omega)*cos(sigma)*cos(theta) - sin(sigma)*cos(omega)*cos(theta))*cos(alpha))*sin(beta) - sin(theta)*cos(beta)) + z_o*(-((-(-sin(omega)*sin(sigma)*cos(theta) + cos(omega)*cos(sigma)*cos(theta))*sin(alpha) + (-sin(omega)*cos(sigma)*cos(theta) - sin(sigma)*cos(omega)*cos(theta))*cos(alpha))*cos(beta) - sin(beta)*sin(theta))*sin(gamma) + (-(-sin(omega)*sin(sigma)*cos(theta) + cos(omega)*cos(sigma)*cos(theta))*cos(alpha) - (-sin(omega)*cos(sigma)*cos(theta) - sin(sigma)*cos(omega)*cos(theta))*sin(alpha))*cos(gamma)) + (-L_D - L_E)*sin(theta)"
      ]
     },
     "metadata": {},
     "output_type": "display_data"
    }
   ],
   "source": [
    "print(\"uwu\")\n",
    "try:\n",
    "    print(\"Example\")\n",
    "    x_offset, y_offset, z_offset = sym.symbols(\"x_o, y_o, z_o\")\n",
    "    deg_to_rad_90 = 90 * (sym.pi/ 180)\n",
    "    link_A, link_B, link_C, link_D, link_E, link_F, link_G = sym.symbols(\"L_A, L_B, L_C, L_D, L_E, L_F, L_G\") \n",
    "    angle_I, angle_II, angle_III, angle_IV, angle_V, angle_VI = sym.symbols(\"theta, sigma, omega, alpha, beta, gamma\")\n",
    "    \n",
    "    # Matrix I to O\n",
    "    matrix_I_to_O = homogeneous_transformation_matrix(\"y\", angle_I, (0, link_A, 0))\n",
    "    \n",
    "    # Matrix II to I\n",
    "    matrix_II_to_I = homogeneous_transformation_matrix(\"z\", angle_II, (0, link_B, 0))\n",
    "    \n",
    "    # Matrix III to II\n",
    "    matrix_III_to_II = homogeneous_transformation_matrix(\"z\", angle_III, (link_C, 0, 0))\n",
    "    \n",
    "    # Matrix IV to III\n",
    "    matrix_IV_to_III_i = homogeneous_transformation_matrix(\"z\", angle_IV, (0, 0, 0))\n",
    "    matrix_IV_to_III_ii = homogeneous_transformation_matrix(\"x\", - deg_to_rad_90, (0, 0, 0))\n",
    "    matrix_IV_to_III_iii = homogeneous_transformation_matrix(\"y\", - deg_to_rad_90, (0, link_D + link_E, 0))\n",
    "    \n",
    "    matrix_IV_to_III = matrix_IV_to_III_i * matrix_IV_to_III_ii * matrix_IV_to_III_iii\n",
    "    \n",
    "    # Matrix V to IV\n",
    "    matrix_V_to_IV_i = homogeneous_transformation_matrix(\"z\", angle_V, (0, 0, 0))\n",
    "    matrix_V_to_IV_ii = homogeneous_transformation_matrix(\"x\", deg_to_rad_90, (0, 0, 0))\n",
    "    \n",
    "    matrix_V_to_IV = matrix_V_to_IV_i * matrix_V_to_IV_ii\n",
    "    \n",
    "    # Matrix VI to V\n",
    "    matrix_VI_to_V_i = homogeneous_transformation_matrix(\"z\", angle_VI, (0, 0, 0))\n",
    "    matrix_VI_to_V_ii = homogeneous_transformation_matrix(\"x\", - deg_to_rad_90, (0, link_F, 0))\n",
    "    \n",
    "    matrix_VI_to_V = matrix_VI_to_V_i * matrix_VI_to_V_ii\n",
    "    \n",
    "    print(\"Matrix I to O\")\n",
    "    display(matrix_I_to_O)\n",
    "    \n",
    "    print(\"Matrix II to I\")\n",
    "    display(matrix_II_to_I)\n",
    "    \n",
    "    print(\"Matrix III to II\")\n",
    "    display(matrix_III_to_II)\n",
    "    \n",
    "    print(\"Matrix IV to III\")\n",
    "    display(matrix_IV_to_III)\n",
    "    \n",
    "    print(\"Matrix V to IV\")\n",
    "    display(matrix_V_to_IV)\n",
    "    \n",
    "    print(\"Matrix VI to V\")\n",
    "    display(matrix_VI_to_V)\n",
    "    \n",
    "    print(\"Matrix VI to O\")\n",
    "    matrix_VI_to_O = matrix_I_to_O * matrix_II_to_I * matrix_III_to_II * matrix_IV_to_III * matrix_V_to_IV * matrix_VI_to_V\n",
    "    display(matrix_VI_to_O)\n",
    "    \n",
    "    relative_coordinates = sym.Matrix([[x_offset], [y_offset], [z_offset], [1]])\n",
    "    absolute_coordinates = matrix_VI_to_O * relative_coordinates\n",
    "    \n",
    "    print(\"Absolute coordinates\")\n",
    "    display(absolute_coordinates)\n",
    "    print(\"X\")\n",
    "    display(absolute_coordinates[0,0])\n",
    "    \n",
    "    \n",
    "    \n",
    "    \n",
    "except Invalid_Input_Argument:\n",
    "    print(\"oops\")\n",
    "    #continue"
   ]
  },
  {
   "cell_type": "code",
   "execution_count": 24,
   "id": "5dad4233",
   "metadata": {
    "scrolled": false
   },
   "outputs": [
    {
     "name": "stdout",
     "output_type": "stream",
     "text": [
      "O to I\n"
     ]
    },
    {
     "data": {
      "text/latex": [
       "$\\displaystyle \\left[\\begin{matrix}x_{o} \\cos{\\left(\\theta \\right)} + z_{o} \\sin{\\left(\\theta \\right)}\\\\L_{A} + y_{o}\\\\- x_{o} \\sin{\\left(\\theta \\right)} + z_{o} \\cos{\\left(\\theta \\right)}\\\\1\\end{matrix}\\right]$"
      ],
      "text/plain": [
       "Matrix([\n",
       "[ x_o*cos(theta) + z_o*sin(theta)],\n",
       "[                       L_A + y_o],\n",
       "[-x_o*sin(theta) + z_o*cos(theta)],\n",
       "[                               1]])"
      ]
     },
     "metadata": {},
     "output_type": "display_data"
    },
    {
     "name": "stdout",
     "output_type": "stream",
     "text": [
      "O to II\n"
     ]
    },
    {
     "data": {
      "text/latex": [
       "$\\displaystyle \\left[\\begin{matrix}x_{o} \\cos{\\left(\\sigma \\right)} \\cos{\\left(\\theta \\right)} - y_{o} \\sin{\\left(\\sigma \\right)} \\cos{\\left(\\theta \\right)} + z_{o} \\sin{\\left(\\theta \\right)}\\\\L_{A} + L_{B} + x_{o} \\sin{\\left(\\sigma \\right)} + y_{o} \\cos{\\left(\\sigma \\right)}\\\\- x_{o} \\sin{\\left(\\theta \\right)} \\cos{\\left(\\sigma \\right)} + y_{o} \\sin{\\left(\\sigma \\right)} \\sin{\\left(\\theta \\right)} + z_{o} \\cos{\\left(\\theta \\right)}\\\\1\\end{matrix}\\right]$"
      ],
      "text/plain": [
       "Matrix([\n",
       "[ x_o*cos(sigma)*cos(theta) - y_o*sin(sigma)*cos(theta) + z_o*sin(theta)],\n",
       "[                            L_A + L_B + x_o*sin(sigma) + y_o*cos(sigma)],\n",
       "[-x_o*sin(theta)*cos(sigma) + y_o*sin(sigma)*sin(theta) + z_o*cos(theta)],\n",
       "[                                                                      1]])"
      ]
     },
     "metadata": {},
     "output_type": "display_data"
    },
    {
     "name": "stdout",
     "output_type": "stream",
     "text": [
      "O to III\n"
     ]
    },
    {
     "data": {
      "text/latex": [
       "$\\displaystyle \\left[\\begin{matrix}L_{C} \\cos{\\left(\\sigma \\right)} \\cos{\\left(\\theta \\right)} + x_{o} \\left(- \\sin{\\left(\\omega \\right)} \\sin{\\left(\\sigma \\right)} \\cos{\\left(\\theta \\right)} + \\cos{\\left(\\omega \\right)} \\cos{\\left(\\sigma \\right)} \\cos{\\left(\\theta \\right)}\\right) + y_{o} \\left(- \\sin{\\left(\\omega \\right)} \\cos{\\left(\\sigma \\right)} \\cos{\\left(\\theta \\right)} - \\sin{\\left(\\sigma \\right)} \\cos{\\left(\\omega \\right)} \\cos{\\left(\\theta \\right)}\\right) + z_{o} \\sin{\\left(\\theta \\right)}\\\\L_{A} + L_{B} + L_{C} \\sin{\\left(\\sigma \\right)} + x_{o} \\left(\\sin{\\left(\\omega \\right)} \\cos{\\left(\\sigma \\right)} + \\sin{\\left(\\sigma \\right)} \\cos{\\left(\\omega \\right)}\\right) + y_{o} \\left(- \\sin{\\left(\\omega \\right)} \\sin{\\left(\\sigma \\right)} + \\cos{\\left(\\omega \\right)} \\cos{\\left(\\sigma \\right)}\\right)\\\\- L_{C} \\sin{\\left(\\theta \\right)} \\cos{\\left(\\sigma \\right)} + x_{o} \\left(\\sin{\\left(\\omega \\right)} \\sin{\\left(\\sigma \\right)} \\sin{\\left(\\theta \\right)} - \\sin{\\left(\\theta \\right)} \\cos{\\left(\\omega \\right)} \\cos{\\left(\\sigma \\right)}\\right) + y_{o} \\left(\\sin{\\left(\\omega \\right)} \\sin{\\left(\\theta \\right)} \\cos{\\left(\\sigma \\right)} + \\sin{\\left(\\sigma \\right)} \\sin{\\left(\\theta \\right)} \\cos{\\left(\\omega \\right)}\\right) + z_{o} \\cos{\\left(\\theta \\right)}\\\\1\\end{matrix}\\right]$"
      ],
      "text/plain": [
       "Matrix([\n",
       "[L_C*cos(sigma)*cos(theta) + x_o*(-sin(omega)*sin(sigma)*cos(theta) + cos(omega)*cos(sigma)*cos(theta)) + y_o*(-sin(omega)*cos(sigma)*cos(theta) - sin(sigma)*cos(omega)*cos(theta)) + z_o*sin(theta)],\n",
       "[                                                             L_A + L_B + L_C*sin(sigma) + x_o*(sin(omega)*cos(sigma) + sin(sigma)*cos(omega)) + y_o*(-sin(omega)*sin(sigma) + cos(omega)*cos(sigma))],\n",
       "[ -L_C*sin(theta)*cos(sigma) + x_o*(sin(omega)*sin(sigma)*sin(theta) - sin(theta)*cos(omega)*cos(sigma)) + y_o*(sin(omega)*sin(theta)*cos(sigma) + sin(sigma)*sin(theta)*cos(omega)) + z_o*cos(theta)],\n",
       "[                                                                                                                                                                                                   1]])"
      ]
     },
     "metadata": {},
     "output_type": "display_data"
    },
    {
     "name": "stdout",
     "output_type": "stream",
     "text": [
      "O to IV\n"
     ]
    },
    {
     "data": {
      "text/latex": [
       "$\\displaystyle \\left[\\begin{matrix}L_{C} \\cos{\\left(\\sigma \\right)} \\cos{\\left(\\theta \\right)} + x_{o} \\left(- \\left(- \\sin{\\left(\\omega \\right)} \\sin{\\left(\\sigma \\right)} \\cos{\\left(\\theta \\right)} + \\cos{\\left(\\omega \\right)} \\cos{\\left(\\sigma \\right)} \\cos{\\left(\\theta \\right)}\\right) \\sin{\\left(\\alpha \\right)} + \\left(- \\sin{\\left(\\omega \\right)} \\cos{\\left(\\sigma \\right)} \\cos{\\left(\\theta \\right)} - \\sin{\\left(\\sigma \\right)} \\cos{\\left(\\omega \\right)} \\cos{\\left(\\theta \\right)}\\right) \\cos{\\left(\\alpha \\right)}\\right) - y_{o} \\sin{\\left(\\theta \\right)} + z_{o} \\left(- \\left(- \\sin{\\left(\\omega \\right)} \\sin{\\left(\\sigma \\right)} \\cos{\\left(\\theta \\right)} + \\cos{\\left(\\omega \\right)} \\cos{\\left(\\sigma \\right)} \\cos{\\left(\\theta \\right)}\\right) \\cos{\\left(\\alpha \\right)} - \\left(- \\sin{\\left(\\omega \\right)} \\cos{\\left(\\sigma \\right)} \\cos{\\left(\\theta \\right)} - \\sin{\\left(\\sigma \\right)} \\cos{\\left(\\omega \\right)} \\cos{\\left(\\theta \\right)}\\right) \\sin{\\left(\\alpha \\right)}\\right) + \\left(- L_{D} - L_{E}\\right) \\sin{\\left(\\theta \\right)}\\\\L_{A} + L_{B} + L_{C} \\sin{\\left(\\sigma \\right)} + x_{o} \\left(\\left(- \\sin{\\left(\\omega \\right)} \\sin{\\left(\\sigma \\right)} + \\cos{\\left(\\omega \\right)} \\cos{\\left(\\sigma \\right)}\\right) \\cos{\\left(\\alpha \\right)} - \\left(\\sin{\\left(\\omega \\right)} \\cos{\\left(\\sigma \\right)} + \\sin{\\left(\\sigma \\right)} \\cos{\\left(\\omega \\right)}\\right) \\sin{\\left(\\alpha \\right)}\\right) + z_{o} \\left(- \\left(- \\sin{\\left(\\omega \\right)} \\sin{\\left(\\sigma \\right)} + \\cos{\\left(\\omega \\right)} \\cos{\\left(\\sigma \\right)}\\right) \\sin{\\left(\\alpha \\right)} - \\left(\\sin{\\left(\\omega \\right)} \\cos{\\left(\\sigma \\right)} + \\sin{\\left(\\sigma \\right)} \\cos{\\left(\\omega \\right)}\\right) \\cos{\\left(\\alpha \\right)}\\right)\\\\- L_{C} \\sin{\\left(\\theta \\right)} \\cos{\\left(\\sigma \\right)} + x_{o} \\left(- \\left(\\sin{\\left(\\omega \\right)} \\sin{\\left(\\sigma \\right)} \\sin{\\left(\\theta \\right)} - \\sin{\\left(\\theta \\right)} \\cos{\\left(\\omega \\right)} \\cos{\\left(\\sigma \\right)}\\right) \\sin{\\left(\\alpha \\right)} + \\left(\\sin{\\left(\\omega \\right)} \\sin{\\left(\\theta \\right)} \\cos{\\left(\\sigma \\right)} + \\sin{\\left(\\sigma \\right)} \\sin{\\left(\\theta \\right)} \\cos{\\left(\\omega \\right)}\\right) \\cos{\\left(\\alpha \\right)}\\right) - y_{o} \\cos{\\left(\\theta \\right)} + z_{o} \\left(- \\left(\\sin{\\left(\\omega \\right)} \\sin{\\left(\\sigma \\right)} \\sin{\\left(\\theta \\right)} - \\sin{\\left(\\theta \\right)} \\cos{\\left(\\omega \\right)} \\cos{\\left(\\sigma \\right)}\\right) \\cos{\\left(\\alpha \\right)} - \\left(\\sin{\\left(\\omega \\right)} \\sin{\\left(\\theta \\right)} \\cos{\\left(\\sigma \\right)} + \\sin{\\left(\\sigma \\right)} \\sin{\\left(\\theta \\right)} \\cos{\\left(\\omega \\right)}\\right) \\sin{\\left(\\alpha \\right)}\\right) + \\left(- L_{D} - L_{E}\\right) \\cos{\\left(\\theta \\right)}\\\\1\\end{matrix}\\right]$"
      ],
      "text/plain": [
       "Matrix([\n",
       "[L_C*cos(sigma)*cos(theta) + x_o*(-(-sin(omega)*sin(sigma)*cos(theta) + cos(omega)*cos(sigma)*cos(theta))*sin(alpha) + (-sin(omega)*cos(sigma)*cos(theta) - sin(sigma)*cos(omega)*cos(theta))*cos(alpha)) - y_o*sin(theta) + z_o*(-(-sin(omega)*sin(sigma)*cos(theta) + cos(omega)*cos(sigma)*cos(theta))*cos(alpha) - (-sin(omega)*cos(sigma)*cos(theta) - sin(sigma)*cos(omega)*cos(theta))*sin(alpha)) + (-L_D - L_E)*sin(theta)],\n",
       "[                                                                                                                                     L_A + L_B + L_C*sin(sigma) + x_o*((-sin(omega)*sin(sigma) + cos(omega)*cos(sigma))*cos(alpha) - (sin(omega)*cos(sigma) + sin(sigma)*cos(omega))*sin(alpha)) + z_o*(-(-sin(omega)*sin(sigma) + cos(omega)*cos(sigma))*sin(alpha) - (sin(omega)*cos(sigma) + sin(sigma)*cos(omega))*cos(alpha))],\n",
       "[   -L_C*sin(theta)*cos(sigma) + x_o*(-(sin(omega)*sin(sigma)*sin(theta) - sin(theta)*cos(omega)*cos(sigma))*sin(alpha) + (sin(omega)*sin(theta)*cos(sigma) + sin(sigma)*sin(theta)*cos(omega))*cos(alpha)) - y_o*cos(theta) + z_o*(-(sin(omega)*sin(sigma)*sin(theta) - sin(theta)*cos(omega)*cos(sigma))*cos(alpha) - (sin(omega)*sin(theta)*cos(sigma) + sin(sigma)*sin(theta)*cos(omega))*sin(alpha)) + (-L_D - L_E)*cos(theta)],\n",
       "[                                                                                                                                                                                                                                                                                                                                                                                                                                 1]])"
      ]
     },
     "metadata": {},
     "output_type": "display_data"
    },
    {
     "name": "stdout",
     "output_type": "stream",
     "text": [
      "O to V\n"
     ]
    },
    {
     "data": {
      "text/latex": [
       "$\\displaystyle \\left[\\begin{matrix}L_{C} \\cos{\\left(\\sigma \\right)} \\cos{\\left(\\theta \\right)} + x_{o} \\left(\\left(- \\left(- \\sin{\\left(\\omega \\right)} \\sin{\\left(\\sigma \\right)} \\cos{\\left(\\theta \\right)} + \\cos{\\left(\\omega \\right)} \\cos{\\left(\\sigma \\right)} \\cos{\\left(\\theta \\right)}\\right) \\sin{\\left(\\alpha \\right)} + \\left(- \\sin{\\left(\\omega \\right)} \\cos{\\left(\\sigma \\right)} \\cos{\\left(\\theta \\right)} - \\sin{\\left(\\sigma \\right)} \\cos{\\left(\\omega \\right)} \\cos{\\left(\\theta \\right)}\\right) \\cos{\\left(\\alpha \\right)}\\right) \\cos{\\left(\\beta \\right)} - \\sin{\\left(\\beta \\right)} \\sin{\\left(\\theta \\right)}\\right) + y_{o} \\left(- \\left(- \\sin{\\left(\\omega \\right)} \\sin{\\left(\\sigma \\right)} \\cos{\\left(\\theta \\right)} + \\cos{\\left(\\omega \\right)} \\cos{\\left(\\sigma \\right)} \\cos{\\left(\\theta \\right)}\\right) \\cos{\\left(\\alpha \\right)} - \\left(- \\sin{\\left(\\omega \\right)} \\cos{\\left(\\sigma \\right)} \\cos{\\left(\\theta \\right)} - \\sin{\\left(\\sigma \\right)} \\cos{\\left(\\omega \\right)} \\cos{\\left(\\theta \\right)}\\right) \\sin{\\left(\\alpha \\right)}\\right) + z_{o} \\left(\\left(- \\left(- \\sin{\\left(\\omega \\right)} \\sin{\\left(\\sigma \\right)} \\cos{\\left(\\theta \\right)} + \\cos{\\left(\\omega \\right)} \\cos{\\left(\\sigma \\right)} \\cos{\\left(\\theta \\right)}\\right) \\sin{\\left(\\alpha \\right)} + \\left(- \\sin{\\left(\\omega \\right)} \\cos{\\left(\\sigma \\right)} \\cos{\\left(\\theta \\right)} - \\sin{\\left(\\sigma \\right)} \\cos{\\left(\\omega \\right)} \\cos{\\left(\\theta \\right)}\\right) \\cos{\\left(\\alpha \\right)}\\right) \\sin{\\left(\\beta \\right)} + \\sin{\\left(\\theta \\right)} \\cos{\\left(\\beta \\right)}\\right) + \\left(- L_{D} - L_{E}\\right) \\sin{\\left(\\theta \\right)}\\\\L_{A} + L_{B} + L_{C} \\sin{\\left(\\sigma \\right)} + x_{o} \\left(\\left(- \\sin{\\left(\\omega \\right)} \\sin{\\left(\\sigma \\right)} + \\cos{\\left(\\omega \\right)} \\cos{\\left(\\sigma \\right)}\\right) \\cos{\\left(\\alpha \\right)} - \\left(\\sin{\\left(\\omega \\right)} \\cos{\\left(\\sigma \\right)} + \\sin{\\left(\\sigma \\right)} \\cos{\\left(\\omega \\right)}\\right) \\sin{\\left(\\alpha \\right)}\\right) \\cos{\\left(\\beta \\right)} + y_{o} \\left(- \\left(- \\sin{\\left(\\omega \\right)} \\sin{\\left(\\sigma \\right)} + \\cos{\\left(\\omega \\right)} \\cos{\\left(\\sigma \\right)}\\right) \\sin{\\left(\\alpha \\right)} - \\left(\\sin{\\left(\\omega \\right)} \\cos{\\left(\\sigma \\right)} + \\sin{\\left(\\sigma \\right)} \\cos{\\left(\\omega \\right)}\\right) \\cos{\\left(\\alpha \\right)}\\right) + z_{o} \\left(\\left(- \\sin{\\left(\\omega \\right)} \\sin{\\left(\\sigma \\right)} + \\cos{\\left(\\omega \\right)} \\cos{\\left(\\sigma \\right)}\\right) \\cos{\\left(\\alpha \\right)} - \\left(\\sin{\\left(\\omega \\right)} \\cos{\\left(\\sigma \\right)} + \\sin{\\left(\\sigma \\right)} \\cos{\\left(\\omega \\right)}\\right) \\sin{\\left(\\alpha \\right)}\\right) \\sin{\\left(\\beta \\right)}\\\\- L_{C} \\sin{\\left(\\theta \\right)} \\cos{\\left(\\sigma \\right)} + x_{o} \\left(\\left(- \\left(\\sin{\\left(\\omega \\right)} \\sin{\\left(\\sigma \\right)} \\sin{\\left(\\theta \\right)} - \\sin{\\left(\\theta \\right)} \\cos{\\left(\\omega \\right)} \\cos{\\left(\\sigma \\right)}\\right) \\sin{\\left(\\alpha \\right)} + \\left(\\sin{\\left(\\omega \\right)} \\sin{\\left(\\theta \\right)} \\cos{\\left(\\sigma \\right)} + \\sin{\\left(\\sigma \\right)} \\sin{\\left(\\theta \\right)} \\cos{\\left(\\omega \\right)}\\right) \\cos{\\left(\\alpha \\right)}\\right) \\cos{\\left(\\beta \\right)} - \\sin{\\left(\\beta \\right)} \\cos{\\left(\\theta \\right)}\\right) + y_{o} \\left(- \\left(\\sin{\\left(\\omega \\right)} \\sin{\\left(\\sigma \\right)} \\sin{\\left(\\theta \\right)} - \\sin{\\left(\\theta \\right)} \\cos{\\left(\\omega \\right)} \\cos{\\left(\\sigma \\right)}\\right) \\cos{\\left(\\alpha \\right)} - \\left(\\sin{\\left(\\omega \\right)} \\sin{\\left(\\theta \\right)} \\cos{\\left(\\sigma \\right)} + \\sin{\\left(\\sigma \\right)} \\sin{\\left(\\theta \\right)} \\cos{\\left(\\omega \\right)}\\right) \\sin{\\left(\\alpha \\right)}\\right) + z_{o} \\left(\\left(- \\left(\\sin{\\left(\\omega \\right)} \\sin{\\left(\\sigma \\right)} \\sin{\\left(\\theta \\right)} - \\sin{\\left(\\theta \\right)} \\cos{\\left(\\omega \\right)} \\cos{\\left(\\sigma \\right)}\\right) \\sin{\\left(\\alpha \\right)} + \\left(\\sin{\\left(\\omega \\right)} \\sin{\\left(\\theta \\right)} \\cos{\\left(\\sigma \\right)} + \\sin{\\left(\\sigma \\right)} \\sin{\\left(\\theta \\right)} \\cos{\\left(\\omega \\right)}\\right) \\cos{\\left(\\alpha \\right)}\\right) \\sin{\\left(\\beta \\right)} + \\cos{\\left(\\beta \\right)} \\cos{\\left(\\theta \\right)}\\right) + \\left(- L_{D} - L_{E}\\right) \\cos{\\left(\\theta \\right)}\\\\1\\end{matrix}\\right]$"
      ],
      "text/plain": [
       "Matrix([\n",
       "[L_C*cos(sigma)*cos(theta) + x_o*((-(-sin(omega)*sin(sigma)*cos(theta) + cos(omega)*cos(sigma)*cos(theta))*sin(alpha) + (-sin(omega)*cos(sigma)*cos(theta) - sin(sigma)*cos(omega)*cos(theta))*cos(alpha))*cos(beta) - sin(beta)*sin(theta)) + y_o*(-(-sin(omega)*sin(sigma)*cos(theta) + cos(omega)*cos(sigma)*cos(theta))*cos(alpha) - (-sin(omega)*cos(sigma)*cos(theta) - sin(sigma)*cos(omega)*cos(theta))*sin(alpha)) + z_o*((-(-sin(omega)*sin(sigma)*cos(theta) + cos(omega)*cos(sigma)*cos(theta))*sin(alpha) + (-sin(omega)*cos(sigma)*cos(theta) - sin(sigma)*cos(omega)*cos(theta))*cos(alpha))*sin(beta) + sin(theta)*cos(beta)) + (-L_D - L_E)*sin(theta)],\n",
       "[                                                                                                                                                                                                                    L_A + L_B + L_C*sin(sigma) + x_o*((-sin(omega)*sin(sigma) + cos(omega)*cos(sigma))*cos(alpha) - (sin(omega)*cos(sigma) + sin(sigma)*cos(omega))*sin(alpha))*cos(beta) + y_o*(-(-sin(omega)*sin(sigma) + cos(omega)*cos(sigma))*sin(alpha) - (sin(omega)*cos(sigma) + sin(sigma)*cos(omega))*cos(alpha)) + z_o*((-sin(omega)*sin(sigma) + cos(omega)*cos(sigma))*cos(alpha) - (sin(omega)*cos(sigma) + sin(sigma)*cos(omega))*sin(alpha))*sin(beta)],\n",
       "[     -L_C*sin(theta)*cos(sigma) + x_o*((-(sin(omega)*sin(sigma)*sin(theta) - sin(theta)*cos(omega)*cos(sigma))*sin(alpha) + (sin(omega)*sin(theta)*cos(sigma) + sin(sigma)*sin(theta)*cos(omega))*cos(alpha))*cos(beta) - sin(beta)*cos(theta)) + y_o*(-(sin(omega)*sin(sigma)*sin(theta) - sin(theta)*cos(omega)*cos(sigma))*cos(alpha) - (sin(omega)*sin(theta)*cos(sigma) + sin(sigma)*sin(theta)*cos(omega))*sin(alpha)) + z_o*((-(sin(omega)*sin(sigma)*sin(theta) - sin(theta)*cos(omega)*cos(sigma))*sin(alpha) + (sin(omega)*sin(theta)*cos(sigma) + sin(sigma)*sin(theta)*cos(omega))*cos(alpha))*sin(beta) + cos(beta)*cos(theta)) + (-L_D - L_E)*cos(theta)],\n",
       "[                                                                                                                                                                                                                                                                                                                                                                                                                                                                                                                                                                                                                                                                     1]])"
      ]
     },
     "metadata": {},
     "output_type": "display_data"
    },
    {
     "name": "stdout",
     "output_type": "stream",
     "text": [
      "O to VI\n"
     ]
    },
    {
     "data": {
      "text/latex": [
       "$\\displaystyle \\left[\\begin{matrix}L_{C} \\cos{\\left(\\sigma \\right)} \\cos{\\left(\\theta \\right)} - L_{F} \\left(\\left(- \\left(- \\sin{\\left(\\omega \\right)} \\sin{\\left(\\sigma \\right)} \\cos{\\left(\\theta \\right)} + \\cos{\\left(\\omega \\right)} \\cos{\\left(\\sigma \\right)} \\cos{\\left(\\theta \\right)}\\right) \\sin{\\left(\\alpha \\right)} + \\left(- \\sin{\\left(\\omega \\right)} \\cos{\\left(\\sigma \\right)} \\cos{\\left(\\theta \\right)} - \\sin{\\left(\\sigma \\right)} \\cos{\\left(\\omega \\right)} \\cos{\\left(\\theta \\right)}\\right) \\cos{\\left(\\alpha \\right)}\\right) \\cos{\\left(\\beta \\right)} - \\sin{\\left(\\beta \\right)} \\sin{\\left(\\theta \\right)}\\right) \\sin{\\left(\\gamma \\right)} + L_{F} \\left(- \\left(- \\sin{\\left(\\omega \\right)} \\sin{\\left(\\sigma \\right)} \\cos{\\left(\\theta \\right)} + \\cos{\\left(\\omega \\right)} \\cos{\\left(\\sigma \\right)} \\cos{\\left(\\theta \\right)}\\right) \\cos{\\left(\\alpha \\right)} - \\left(- \\sin{\\left(\\omega \\right)} \\cos{\\left(\\sigma \\right)} \\cos{\\left(\\theta \\right)} - \\sin{\\left(\\sigma \\right)} \\cos{\\left(\\omega \\right)} \\cos{\\left(\\theta \\right)}\\right) \\sin{\\left(\\alpha \\right)}\\right) \\cos{\\left(\\gamma \\right)} + x_{o} \\left(\\left(\\left(- \\left(- \\sin{\\left(\\omega \\right)} \\sin{\\left(\\sigma \\right)} \\cos{\\left(\\theta \\right)} + \\cos{\\left(\\omega \\right)} \\cos{\\left(\\sigma \\right)} \\cos{\\left(\\theta \\right)}\\right) \\sin{\\left(\\alpha \\right)} + \\left(- \\sin{\\left(\\omega \\right)} \\cos{\\left(\\sigma \\right)} \\cos{\\left(\\theta \\right)} - \\sin{\\left(\\sigma \\right)} \\cos{\\left(\\omega \\right)} \\cos{\\left(\\theta \\right)}\\right) \\cos{\\left(\\alpha \\right)}\\right) \\cos{\\left(\\beta \\right)} - \\sin{\\left(\\beta \\right)} \\sin{\\left(\\theta \\right)}\\right) \\cos{\\left(\\gamma \\right)} + \\left(- \\left(- \\sin{\\left(\\omega \\right)} \\sin{\\left(\\sigma \\right)} \\cos{\\left(\\theta \\right)} + \\cos{\\left(\\omega \\right)} \\cos{\\left(\\sigma \\right)} \\cos{\\left(\\theta \\right)}\\right) \\cos{\\left(\\alpha \\right)} - \\left(- \\sin{\\left(\\omega \\right)} \\cos{\\left(\\sigma \\right)} \\cos{\\left(\\theta \\right)} - \\sin{\\left(\\sigma \\right)} \\cos{\\left(\\omega \\right)} \\cos{\\left(\\theta \\right)}\\right) \\sin{\\left(\\alpha \\right)}\\right) \\sin{\\left(\\gamma \\right)}\\right) + y_{o} \\left(- \\left(- \\left(- \\sin{\\left(\\omega \\right)} \\sin{\\left(\\sigma \\right)} \\cos{\\left(\\theta \\right)} + \\cos{\\left(\\omega \\right)} \\cos{\\left(\\sigma \\right)} \\cos{\\left(\\theta \\right)}\\right) \\sin{\\left(\\alpha \\right)} + \\left(- \\sin{\\left(\\omega \\right)} \\cos{\\left(\\sigma \\right)} \\cos{\\left(\\theta \\right)} - \\sin{\\left(\\sigma \\right)} \\cos{\\left(\\omega \\right)} \\cos{\\left(\\theta \\right)}\\right) \\cos{\\left(\\alpha \\right)}\\right) \\sin{\\left(\\beta \\right)} - \\sin{\\left(\\theta \\right)} \\cos{\\left(\\beta \\right)}\\right) + z_{o} \\left(- \\left(\\left(- \\left(- \\sin{\\left(\\omega \\right)} \\sin{\\left(\\sigma \\right)} \\cos{\\left(\\theta \\right)} + \\cos{\\left(\\omega \\right)} \\cos{\\left(\\sigma \\right)} \\cos{\\left(\\theta \\right)}\\right) \\sin{\\left(\\alpha \\right)} + \\left(- \\sin{\\left(\\omega \\right)} \\cos{\\left(\\sigma \\right)} \\cos{\\left(\\theta \\right)} - \\sin{\\left(\\sigma \\right)} \\cos{\\left(\\omega \\right)} \\cos{\\left(\\theta \\right)}\\right) \\cos{\\left(\\alpha \\right)}\\right) \\cos{\\left(\\beta \\right)} - \\sin{\\left(\\beta \\right)} \\sin{\\left(\\theta \\right)}\\right) \\sin{\\left(\\gamma \\right)} + \\left(- \\left(- \\sin{\\left(\\omega \\right)} \\sin{\\left(\\sigma \\right)} \\cos{\\left(\\theta \\right)} + \\cos{\\left(\\omega \\right)} \\cos{\\left(\\sigma \\right)} \\cos{\\left(\\theta \\right)}\\right) \\cos{\\left(\\alpha \\right)} - \\left(- \\sin{\\left(\\omega \\right)} \\cos{\\left(\\sigma \\right)} \\cos{\\left(\\theta \\right)} - \\sin{\\left(\\sigma \\right)} \\cos{\\left(\\omega \\right)} \\cos{\\left(\\theta \\right)}\\right) \\sin{\\left(\\alpha \\right)}\\right) \\cos{\\left(\\gamma \\right)}\\right) + \\left(- L_{D} - L_{E}\\right) \\sin{\\left(\\theta \\right)}\\\\L_{A} + L_{B} + L_{C} \\sin{\\left(\\sigma \\right)} + L_{F} \\left(- \\left(- \\sin{\\left(\\omega \\right)} \\sin{\\left(\\sigma \\right)} + \\cos{\\left(\\omega \\right)} \\cos{\\left(\\sigma \\right)}\\right) \\sin{\\left(\\alpha \\right)} - \\left(\\sin{\\left(\\omega \\right)} \\cos{\\left(\\sigma \\right)} + \\sin{\\left(\\sigma \\right)} \\cos{\\left(\\omega \\right)}\\right) \\cos{\\left(\\alpha \\right)}\\right) \\cos{\\left(\\gamma \\right)} - L_{F} \\left(\\left(- \\sin{\\left(\\omega \\right)} \\sin{\\left(\\sigma \\right)} + \\cos{\\left(\\omega \\right)} \\cos{\\left(\\sigma \\right)}\\right) \\cos{\\left(\\alpha \\right)} - \\left(\\sin{\\left(\\omega \\right)} \\cos{\\left(\\sigma \\right)} + \\sin{\\left(\\sigma \\right)} \\cos{\\left(\\omega \\right)}\\right) \\sin{\\left(\\alpha \\right)}\\right) \\sin{\\left(\\gamma \\right)} \\cos{\\left(\\beta \\right)} + x_{o} \\left(\\left(- \\left(- \\sin{\\left(\\omega \\right)} \\sin{\\left(\\sigma \\right)} + \\cos{\\left(\\omega \\right)} \\cos{\\left(\\sigma \\right)}\\right) \\sin{\\left(\\alpha \\right)} - \\left(\\sin{\\left(\\omega \\right)} \\cos{\\left(\\sigma \\right)} + \\sin{\\left(\\sigma \\right)} \\cos{\\left(\\omega \\right)}\\right) \\cos{\\left(\\alpha \\right)}\\right) \\sin{\\left(\\gamma \\right)} + \\left(\\left(- \\sin{\\left(\\omega \\right)} \\sin{\\left(\\sigma \\right)} + \\cos{\\left(\\omega \\right)} \\cos{\\left(\\sigma \\right)}\\right) \\cos{\\left(\\alpha \\right)} - \\left(\\sin{\\left(\\omega \\right)} \\cos{\\left(\\sigma \\right)} + \\sin{\\left(\\sigma \\right)} \\cos{\\left(\\omega \\right)}\\right) \\sin{\\left(\\alpha \\right)}\\right) \\cos{\\left(\\beta \\right)} \\cos{\\left(\\gamma \\right)}\\right) - y_{o} \\left(\\left(- \\sin{\\left(\\omega \\right)} \\sin{\\left(\\sigma \\right)} + \\cos{\\left(\\omega \\right)} \\cos{\\left(\\sigma \\right)}\\right) \\cos{\\left(\\alpha \\right)} - \\left(\\sin{\\left(\\omega \\right)} \\cos{\\left(\\sigma \\right)} + \\sin{\\left(\\sigma \\right)} \\cos{\\left(\\omega \\right)}\\right) \\sin{\\left(\\alpha \\right)}\\right) \\sin{\\left(\\beta \\right)} + z_{o} \\left(\\left(- \\left(- \\sin{\\left(\\omega \\right)} \\sin{\\left(\\sigma \\right)} + \\cos{\\left(\\omega \\right)} \\cos{\\left(\\sigma \\right)}\\right) \\sin{\\left(\\alpha \\right)} - \\left(\\sin{\\left(\\omega \\right)} \\cos{\\left(\\sigma \\right)} + \\sin{\\left(\\sigma \\right)} \\cos{\\left(\\omega \\right)}\\right) \\cos{\\left(\\alpha \\right)}\\right) \\cos{\\left(\\gamma \\right)} - \\left(\\left(- \\sin{\\left(\\omega \\right)} \\sin{\\left(\\sigma \\right)} + \\cos{\\left(\\omega \\right)} \\cos{\\left(\\sigma \\right)}\\right) \\cos{\\left(\\alpha \\right)} - \\left(\\sin{\\left(\\omega \\right)} \\cos{\\left(\\sigma \\right)} + \\sin{\\left(\\sigma \\right)} \\cos{\\left(\\omega \\right)}\\right) \\sin{\\left(\\alpha \\right)}\\right) \\sin{\\left(\\gamma \\right)} \\cos{\\left(\\beta \\right)}\\right)\\\\- L_{C} \\sin{\\left(\\theta \\right)} \\cos{\\left(\\sigma \\right)} - L_{F} \\left(\\left(- \\left(\\sin{\\left(\\omega \\right)} \\sin{\\left(\\sigma \\right)} \\sin{\\left(\\theta \\right)} - \\sin{\\left(\\theta \\right)} \\cos{\\left(\\omega \\right)} \\cos{\\left(\\sigma \\right)}\\right) \\sin{\\left(\\alpha \\right)} + \\left(\\sin{\\left(\\omega \\right)} \\sin{\\left(\\theta \\right)} \\cos{\\left(\\sigma \\right)} + \\sin{\\left(\\sigma \\right)} \\sin{\\left(\\theta \\right)} \\cos{\\left(\\omega \\right)}\\right) \\cos{\\left(\\alpha \\right)}\\right) \\cos{\\left(\\beta \\right)} - \\sin{\\left(\\beta \\right)} \\cos{\\left(\\theta \\right)}\\right) \\sin{\\left(\\gamma \\right)} + L_{F} \\left(- \\left(\\sin{\\left(\\omega \\right)} \\sin{\\left(\\sigma \\right)} \\sin{\\left(\\theta \\right)} - \\sin{\\left(\\theta \\right)} \\cos{\\left(\\omega \\right)} \\cos{\\left(\\sigma \\right)}\\right) \\cos{\\left(\\alpha \\right)} - \\left(\\sin{\\left(\\omega \\right)} \\sin{\\left(\\theta \\right)} \\cos{\\left(\\sigma \\right)} + \\sin{\\left(\\sigma \\right)} \\sin{\\left(\\theta \\right)} \\cos{\\left(\\omega \\right)}\\right) \\sin{\\left(\\alpha \\right)}\\right) \\cos{\\left(\\gamma \\right)} + x_{o} \\left(\\left(\\left(- \\left(\\sin{\\left(\\omega \\right)} \\sin{\\left(\\sigma \\right)} \\sin{\\left(\\theta \\right)} - \\sin{\\left(\\theta \\right)} \\cos{\\left(\\omega \\right)} \\cos{\\left(\\sigma \\right)}\\right) \\sin{\\left(\\alpha \\right)} + \\left(\\sin{\\left(\\omega \\right)} \\sin{\\left(\\theta \\right)} \\cos{\\left(\\sigma \\right)} + \\sin{\\left(\\sigma \\right)} \\sin{\\left(\\theta \\right)} \\cos{\\left(\\omega \\right)}\\right) \\cos{\\left(\\alpha \\right)}\\right) \\cos{\\left(\\beta \\right)} - \\sin{\\left(\\beta \\right)} \\cos{\\left(\\theta \\right)}\\right) \\cos{\\left(\\gamma \\right)} + \\left(- \\left(\\sin{\\left(\\omega \\right)} \\sin{\\left(\\sigma \\right)} \\sin{\\left(\\theta \\right)} - \\sin{\\left(\\theta \\right)} \\cos{\\left(\\omega \\right)} \\cos{\\left(\\sigma \\right)}\\right) \\cos{\\left(\\alpha \\right)} - \\left(\\sin{\\left(\\omega \\right)} \\sin{\\left(\\theta \\right)} \\cos{\\left(\\sigma \\right)} + \\sin{\\left(\\sigma \\right)} \\sin{\\left(\\theta \\right)} \\cos{\\left(\\omega \\right)}\\right) \\sin{\\left(\\alpha \\right)}\\right) \\sin{\\left(\\gamma \\right)}\\right) + y_{o} \\left(- \\left(- \\left(\\sin{\\left(\\omega \\right)} \\sin{\\left(\\sigma \\right)} \\sin{\\left(\\theta \\right)} - \\sin{\\left(\\theta \\right)} \\cos{\\left(\\omega \\right)} \\cos{\\left(\\sigma \\right)}\\right) \\sin{\\left(\\alpha \\right)} + \\left(\\sin{\\left(\\omega \\right)} \\sin{\\left(\\theta \\right)} \\cos{\\left(\\sigma \\right)} + \\sin{\\left(\\sigma \\right)} \\sin{\\left(\\theta \\right)} \\cos{\\left(\\omega \\right)}\\right) \\cos{\\left(\\alpha \\right)}\\right) \\sin{\\left(\\beta \\right)} - \\cos{\\left(\\beta \\right)} \\cos{\\left(\\theta \\right)}\\right) + z_{o} \\left(- \\left(\\left(- \\left(\\sin{\\left(\\omega \\right)} \\sin{\\left(\\sigma \\right)} \\sin{\\left(\\theta \\right)} - \\sin{\\left(\\theta \\right)} \\cos{\\left(\\omega \\right)} \\cos{\\left(\\sigma \\right)}\\right) \\sin{\\left(\\alpha \\right)} + \\left(\\sin{\\left(\\omega \\right)} \\sin{\\left(\\theta \\right)} \\cos{\\left(\\sigma \\right)} + \\sin{\\left(\\sigma \\right)} \\sin{\\left(\\theta \\right)} \\cos{\\left(\\omega \\right)}\\right) \\cos{\\left(\\alpha \\right)}\\right) \\cos{\\left(\\beta \\right)} - \\sin{\\left(\\beta \\right)} \\cos{\\left(\\theta \\right)}\\right) \\sin{\\left(\\gamma \\right)} + \\left(- \\left(\\sin{\\left(\\omega \\right)} \\sin{\\left(\\sigma \\right)} \\sin{\\left(\\theta \\right)} - \\sin{\\left(\\theta \\right)} \\cos{\\left(\\omega \\right)} \\cos{\\left(\\sigma \\right)}\\right) \\cos{\\left(\\alpha \\right)} - \\left(\\sin{\\left(\\omega \\right)} \\sin{\\left(\\theta \\right)} \\cos{\\left(\\sigma \\right)} + \\sin{\\left(\\sigma \\right)} \\sin{\\left(\\theta \\right)} \\cos{\\left(\\omega \\right)}\\right) \\sin{\\left(\\alpha \\right)}\\right) \\cos{\\left(\\gamma \\right)}\\right) + \\left(- L_{D} - L_{E}\\right) \\cos{\\left(\\theta \\right)}\\\\1\\end{matrix}\\right]$"
      ],
      "text/plain": [
       "Matrix([\n",
       "[L_C*cos(sigma)*cos(theta) - L_F*((-(-sin(omega)*sin(sigma)*cos(theta) + cos(omega)*cos(sigma)*cos(theta))*sin(alpha) + (-sin(omega)*cos(sigma)*cos(theta) - sin(sigma)*cos(omega)*cos(theta))*cos(alpha))*cos(beta) - sin(beta)*sin(theta))*sin(gamma) + L_F*(-(-sin(omega)*sin(sigma)*cos(theta) + cos(omega)*cos(sigma)*cos(theta))*cos(alpha) - (-sin(omega)*cos(sigma)*cos(theta) - sin(sigma)*cos(omega)*cos(theta))*sin(alpha))*cos(gamma) + x_o*(((-(-sin(omega)*sin(sigma)*cos(theta) + cos(omega)*cos(sigma)*cos(theta))*sin(alpha) + (-sin(omega)*cos(sigma)*cos(theta) - sin(sigma)*cos(omega)*cos(theta))*cos(alpha))*cos(beta) - sin(beta)*sin(theta))*cos(gamma) + (-(-sin(omega)*sin(sigma)*cos(theta) + cos(omega)*cos(sigma)*cos(theta))*cos(alpha) - (-sin(omega)*cos(sigma)*cos(theta) - sin(sigma)*cos(omega)*cos(theta))*sin(alpha))*sin(gamma)) + y_o*(-(-(-sin(omega)*sin(sigma)*cos(theta) + cos(omega)*cos(sigma)*cos(theta))*sin(alpha) + (-sin(omega)*cos(sigma)*cos(theta) - sin(sigma)*cos(omega)*cos(theta))*cos(alpha))*sin(beta) - sin(theta)*cos(beta)) + z_o*(-((-(-sin(omega)*sin(sigma)*cos(theta) + cos(omega)*cos(sigma)*cos(theta))*sin(alpha) + (-sin(omega)*cos(sigma)*cos(theta) - sin(sigma)*cos(omega)*cos(theta))*cos(alpha))*cos(beta) - sin(beta)*sin(theta))*sin(gamma) + (-(-sin(omega)*sin(sigma)*cos(theta) + cos(omega)*cos(sigma)*cos(theta))*cos(alpha) - (-sin(omega)*cos(sigma)*cos(theta) - sin(sigma)*cos(omega)*cos(theta))*sin(alpha))*cos(gamma)) + (-L_D - L_E)*sin(theta)],\n",
       "[                                                                                                                                                                                                                                                                                                                                                                                                                                                              L_A + L_B + L_C*sin(sigma) + L_F*(-(-sin(omega)*sin(sigma) + cos(omega)*cos(sigma))*sin(alpha) - (sin(omega)*cos(sigma) + sin(sigma)*cos(omega))*cos(alpha))*cos(gamma) - L_F*((-sin(omega)*sin(sigma) + cos(omega)*cos(sigma))*cos(alpha) - (sin(omega)*cos(sigma) + sin(sigma)*cos(omega))*sin(alpha))*sin(gamma)*cos(beta) + x_o*((-(-sin(omega)*sin(sigma) + cos(omega)*cos(sigma))*sin(alpha) - (sin(omega)*cos(sigma) + sin(sigma)*cos(omega))*cos(alpha))*sin(gamma) + ((-sin(omega)*sin(sigma) + cos(omega)*cos(sigma))*cos(alpha) - (sin(omega)*cos(sigma) + sin(sigma)*cos(omega))*sin(alpha))*cos(beta)*cos(gamma)) - y_o*((-sin(omega)*sin(sigma) + cos(omega)*cos(sigma))*cos(alpha) - (sin(omega)*cos(sigma) + sin(sigma)*cos(omega))*sin(alpha))*sin(beta) + z_o*((-(-sin(omega)*sin(sigma) + cos(omega)*cos(sigma))*sin(alpha) - (sin(omega)*cos(sigma) + sin(sigma)*cos(omega))*cos(alpha))*cos(gamma) - ((-sin(omega)*sin(sigma) + cos(omega)*cos(sigma))*cos(alpha) - (sin(omega)*cos(sigma) + sin(sigma)*cos(omega))*sin(alpha))*sin(gamma)*cos(beta))],\n",
       "[             -L_C*sin(theta)*cos(sigma) - L_F*((-(sin(omega)*sin(sigma)*sin(theta) - sin(theta)*cos(omega)*cos(sigma))*sin(alpha) + (sin(omega)*sin(theta)*cos(sigma) + sin(sigma)*sin(theta)*cos(omega))*cos(alpha))*cos(beta) - sin(beta)*cos(theta))*sin(gamma) + L_F*(-(sin(omega)*sin(sigma)*sin(theta) - sin(theta)*cos(omega)*cos(sigma))*cos(alpha) - (sin(omega)*sin(theta)*cos(sigma) + sin(sigma)*sin(theta)*cos(omega))*sin(alpha))*cos(gamma) + x_o*(((-(sin(omega)*sin(sigma)*sin(theta) - sin(theta)*cos(omega)*cos(sigma))*sin(alpha) + (sin(omega)*sin(theta)*cos(sigma) + sin(sigma)*sin(theta)*cos(omega))*cos(alpha))*cos(beta) - sin(beta)*cos(theta))*cos(gamma) + (-(sin(omega)*sin(sigma)*sin(theta) - sin(theta)*cos(omega)*cos(sigma))*cos(alpha) - (sin(omega)*sin(theta)*cos(sigma) + sin(sigma)*sin(theta)*cos(omega))*sin(alpha))*sin(gamma)) + y_o*(-(-(sin(omega)*sin(sigma)*sin(theta) - sin(theta)*cos(omega)*cos(sigma))*sin(alpha) + (sin(omega)*sin(theta)*cos(sigma) + sin(sigma)*sin(theta)*cos(omega))*cos(alpha))*sin(beta) - cos(beta)*cos(theta)) + z_o*(-((-(sin(omega)*sin(sigma)*sin(theta) - sin(theta)*cos(omega)*cos(sigma))*sin(alpha) + (sin(omega)*sin(theta)*cos(sigma) + sin(sigma)*sin(theta)*cos(omega))*cos(alpha))*cos(beta) - sin(beta)*cos(theta))*sin(gamma) + (-(sin(omega)*sin(sigma)*sin(theta) - sin(theta)*cos(omega)*cos(sigma))*cos(alpha) - (sin(omega)*sin(theta)*cos(sigma) + sin(sigma)*sin(theta)*cos(omega))*sin(alpha))*cos(gamma)) + (-L_D - L_E)*cos(theta)],\n",
       "[                                                                                                                                                                                                                                                                                                                                                                                                                                                                                                                                                                                                                                                                                                                                                                                                                                                                                                                                                                                                                                                                                                                                                                                                                                                                                                                                                                                                                                                                                                                                       1]])"
      ]
     },
     "metadata": {},
     "output_type": "display_data"
    },
    {
     "data": {
      "text/latex": [
       "$\\displaystyle x_{o} \\cos{\\left(\\sigma \\right)} \\cos{\\left(\\theta \\right)} - y_{o} \\sin{\\left(\\sigma \\right)} \\cos{\\left(\\theta \\right)} + z_{o} \\sin{\\left(\\theta \\right)}$"
      ],
      "text/plain": [
       "x_o*cos(sigma)*cos(theta) - y_o*sin(sigma)*cos(theta) + z_o*sin(theta)"
      ]
     },
     "metadata": {},
     "output_type": "display_data"
    }
   ],
   "source": [
    "print(\"O to I\")\n",
    "display(matrix_I_to_O * relative_coordinates)\n",
    "print(\"O to II\")\n",
    "display(matrix_I_to_O * matrix_II_to_I * relative_coordinates)\n",
    "print(\"O to III\")\n",
    "display(matrix_I_to_O * matrix_II_to_I * matrix_III_to_II * relative_coordinates)\n",
    "print(\"O to IV\")\n",
    "display(matrix_I_to_O * matrix_II_to_I * matrix_III_to_II * matrix_IV_to_III * relative_coordinates)\n",
    "print(\"O to V\")\n",
    "display(matrix_I_to_O * matrix_II_to_I * matrix_III_to_II * matrix_IV_to_III * matrix_V_to_IV * relative_coordinates)\n",
    "print(\"O to VI\")\n",
    "display(matrix_I_to_O * matrix_II_to_I * matrix_III_to_II * matrix_IV_to_III * matrix_V_to_IV * matrix_VI_to_V * relative_coordinates)\n",
    "\n",
    "display(sym.factor((matrix_I_to_O * matrix_II_to_I * relative_coordinates)[0,0]))"
   ]
  },
  {
   "cell_type": "code",
   "execution_count": 27,
   "id": "70372d82",
   "metadata": {},
   "outputs": [
    {
     "data": {
      "text/latex": [
       "$\\displaystyle L_{C} \\cos{\\left(\\sigma \\right)} \\cos{\\left(\\theta \\right)} - L_{F} \\left(\\left(- \\left(- \\sin{\\left(\\omega \\right)} \\sin{\\left(\\sigma \\right)} \\cos{\\left(\\theta \\right)} + \\cos{\\left(\\omega \\right)} \\cos{\\left(\\sigma \\right)} \\cos{\\left(\\theta \\right)}\\right) \\sin{\\left(\\alpha \\right)} + \\left(- \\sin{\\left(\\omega \\right)} \\cos{\\left(\\sigma \\right)} \\cos{\\left(\\theta \\right)} - \\sin{\\left(\\sigma \\right)} \\cos{\\left(\\omega \\right)} \\cos{\\left(\\theta \\right)}\\right) \\cos{\\left(\\alpha \\right)}\\right) \\cos{\\left(\\beta \\right)} - \\sin{\\left(\\beta \\right)} \\sin{\\left(\\theta \\right)}\\right) \\sin{\\left(\\gamma \\right)} + L_{F} \\left(- \\left(- \\sin{\\left(\\omega \\right)} \\sin{\\left(\\sigma \\right)} \\cos{\\left(\\theta \\right)} + \\cos{\\left(\\omega \\right)} \\cos{\\left(\\sigma \\right)} \\cos{\\left(\\theta \\right)}\\right) \\cos{\\left(\\alpha \\right)} - \\left(- \\sin{\\left(\\omega \\right)} \\cos{\\left(\\sigma \\right)} \\cos{\\left(\\theta \\right)} - \\sin{\\left(\\sigma \\right)} \\cos{\\left(\\omega \\right)} \\cos{\\left(\\theta \\right)}\\right) \\sin{\\left(\\alpha \\right)}\\right) \\cos{\\left(\\gamma \\right)} + x_{o} \\left(\\left(\\left(- \\left(- \\sin{\\left(\\omega \\right)} \\sin{\\left(\\sigma \\right)} \\cos{\\left(\\theta \\right)} + \\cos{\\left(\\omega \\right)} \\cos{\\left(\\sigma \\right)} \\cos{\\left(\\theta \\right)}\\right) \\sin{\\left(\\alpha \\right)} + \\left(- \\sin{\\left(\\omega \\right)} \\cos{\\left(\\sigma \\right)} \\cos{\\left(\\theta \\right)} - \\sin{\\left(\\sigma \\right)} \\cos{\\left(\\omega \\right)} \\cos{\\left(\\theta \\right)}\\right) \\cos{\\left(\\alpha \\right)}\\right) \\cos{\\left(\\beta \\right)} - \\sin{\\left(\\beta \\right)} \\sin{\\left(\\theta \\right)}\\right) \\cos{\\left(\\gamma \\right)} + \\left(- \\left(- \\sin{\\left(\\omega \\right)} \\sin{\\left(\\sigma \\right)} \\cos{\\left(\\theta \\right)} + \\cos{\\left(\\omega \\right)} \\cos{\\left(\\sigma \\right)} \\cos{\\left(\\theta \\right)}\\right) \\cos{\\left(\\alpha \\right)} - \\left(- \\sin{\\left(\\omega \\right)} \\cos{\\left(\\sigma \\right)} \\cos{\\left(\\theta \\right)} - \\sin{\\left(\\sigma \\right)} \\cos{\\left(\\omega \\right)} \\cos{\\left(\\theta \\right)}\\right) \\sin{\\left(\\alpha \\right)}\\right) \\sin{\\left(\\gamma \\right)}\\right) + y_{o} \\left(- \\left(- \\left(- \\sin{\\left(\\omega \\right)} \\sin{\\left(\\sigma \\right)} \\cos{\\left(\\theta \\right)} + \\cos{\\left(\\omega \\right)} \\cos{\\left(\\sigma \\right)} \\cos{\\left(\\theta \\right)}\\right) \\sin{\\left(\\alpha \\right)} + \\left(- \\sin{\\left(\\omega \\right)} \\cos{\\left(\\sigma \\right)} \\cos{\\left(\\theta \\right)} - \\sin{\\left(\\sigma \\right)} \\cos{\\left(\\omega \\right)} \\cos{\\left(\\theta \\right)}\\right) \\cos{\\left(\\alpha \\right)}\\right) \\sin{\\left(\\beta \\right)} - \\sin{\\left(\\theta \\right)} \\cos{\\left(\\beta \\right)}\\right) + z_{o} \\left(- \\left(\\left(- \\left(- \\sin{\\left(\\omega \\right)} \\sin{\\left(\\sigma \\right)} \\cos{\\left(\\theta \\right)} + \\cos{\\left(\\omega \\right)} \\cos{\\left(\\sigma \\right)} \\cos{\\left(\\theta \\right)}\\right) \\sin{\\left(\\alpha \\right)} + \\left(- \\sin{\\left(\\omega \\right)} \\cos{\\left(\\sigma \\right)} \\cos{\\left(\\theta \\right)} - \\sin{\\left(\\sigma \\right)} \\cos{\\left(\\omega \\right)} \\cos{\\left(\\theta \\right)}\\right) \\cos{\\left(\\alpha \\right)}\\right) \\cos{\\left(\\beta \\right)} - \\sin{\\left(\\beta \\right)} \\sin{\\left(\\theta \\right)}\\right) \\sin{\\left(\\gamma \\right)} + \\left(- \\left(- \\sin{\\left(\\omega \\right)} \\sin{\\left(\\sigma \\right)} \\cos{\\left(\\theta \\right)} + \\cos{\\left(\\omega \\right)} \\cos{\\left(\\sigma \\right)} \\cos{\\left(\\theta \\right)}\\right) \\cos{\\left(\\alpha \\right)} - \\left(- \\sin{\\left(\\omega \\right)} \\cos{\\left(\\sigma \\right)} \\cos{\\left(\\theta \\right)} - \\sin{\\left(\\sigma \\right)} \\cos{\\left(\\omega \\right)} \\cos{\\left(\\theta \\right)}\\right) \\sin{\\left(\\alpha \\right)}\\right) \\cos{\\left(\\gamma \\right)}\\right) + \\left(- L_{D} - L_{E}\\right) \\sin{\\left(\\theta \\right)}$"
      ],
      "text/plain": [
       "L_C*cos(sigma)*cos(theta) - L_F*((-(-sin(omega)*sin(sigma)*cos(theta) + cos(omega)*cos(sigma)*cos(theta))*sin(alpha) + (-sin(omega)*cos(sigma)*cos(theta) - sin(sigma)*cos(omega)*cos(theta))*cos(alpha))*cos(beta) - sin(beta)*sin(theta))*sin(gamma) + L_F*(-(-sin(omega)*sin(sigma)*cos(theta) + cos(omega)*cos(sigma)*cos(theta))*cos(alpha) - (-sin(omega)*cos(sigma)*cos(theta) - sin(sigma)*cos(omega)*cos(theta))*sin(alpha))*cos(gamma) + x_o*(((-(-sin(omega)*sin(sigma)*cos(theta) + cos(omega)*cos(sigma)*cos(theta))*sin(alpha) + (-sin(omega)*cos(sigma)*cos(theta) - sin(sigma)*cos(omega)*cos(theta))*cos(alpha))*cos(beta) - sin(beta)*sin(theta))*cos(gamma) + (-(-sin(omega)*sin(sigma)*cos(theta) + cos(omega)*cos(sigma)*cos(theta))*cos(alpha) - (-sin(omega)*cos(sigma)*cos(theta) - sin(sigma)*cos(omega)*cos(theta))*sin(alpha))*sin(gamma)) + y_o*(-(-(-sin(omega)*sin(sigma)*cos(theta) + cos(omega)*cos(sigma)*cos(theta))*sin(alpha) + (-sin(omega)*cos(sigma)*cos(theta) - sin(sigma)*cos(omega)*cos(theta))*cos(alpha))*sin(beta) - sin(theta)*cos(beta)) + z_o*(-((-(-sin(omega)*sin(sigma)*cos(theta) + cos(omega)*cos(sigma)*cos(theta))*sin(alpha) + (-sin(omega)*cos(sigma)*cos(theta) - sin(sigma)*cos(omega)*cos(theta))*cos(alpha))*cos(beta) - sin(beta)*sin(theta))*sin(gamma) + (-(-sin(omega)*sin(sigma)*cos(theta) + cos(omega)*cos(sigma)*cos(theta))*cos(alpha) - (-sin(omega)*cos(sigma)*cos(theta) - sin(sigma)*cos(omega)*cos(theta))*sin(alpha))*cos(gamma)) + (-L_D - L_E)*sin(theta)"
      ]
     },
     "metadata": {},
     "output_type": "display_data"
    },
    {
     "data": {
      "text/latex": [
       "$\\displaystyle L_{C} \\cos{\\left(\\sigma \\right)} \\cos{\\left(\\theta \\right)} + L_{F} \\left(\\sin{\\left(\\beta \\right)} \\sin{\\left(\\theta \\right)} + \\sin{\\left(\\alpha + \\omega + \\sigma \\right)} \\cos{\\left(\\beta \\right)} \\cos{\\left(\\theta \\right)}\\right) \\sin{\\left(\\gamma \\right)} - L_{F} \\cos{\\left(\\gamma \\right)} \\cos{\\left(\\theta \\right)} \\cos{\\left(\\alpha + \\omega + \\sigma \\right)} - x_{o} \\left(\\left(\\sin{\\left(\\beta \\right)} \\sin{\\left(\\theta \\right)} + \\sin{\\left(\\alpha + \\omega + \\sigma \\right)} \\cos{\\left(\\beta \\right)} \\cos{\\left(\\theta \\right)}\\right) \\cos{\\left(\\gamma \\right)} + \\sin{\\left(\\gamma \\right)} \\cos{\\left(\\theta \\right)} \\cos{\\left(\\alpha + \\omega + \\sigma \\right)}\\right) + y_{o} \\left(\\sin{\\left(\\beta \\right)} \\sin{\\left(\\alpha + \\omega + \\sigma \\right)} \\cos{\\left(\\theta \\right)} - \\sin{\\left(\\theta \\right)} \\cos{\\left(\\beta \\right)}\\right) + z_{o} \\left(\\left(\\sin{\\left(\\beta \\right)} \\sin{\\left(\\theta \\right)} + \\sin{\\left(\\alpha + \\omega + \\sigma \\right)} \\cos{\\left(\\beta \\right)} \\cos{\\left(\\theta \\right)}\\right) \\sin{\\left(\\gamma \\right)} - \\cos{\\left(\\gamma \\right)} \\cos{\\left(\\theta \\right)} \\cos{\\left(\\alpha + \\omega + \\sigma \\right)}\\right) - \\left(L_{D} + L_{E}\\right) \\sin{\\left(\\theta \\right)}$"
      ],
      "text/plain": [
       "L_C*cos(sigma)*cos(theta) + L_F*(sin(beta)*sin(theta) + sin(alpha + omega + sigma)*cos(beta)*cos(theta))*sin(gamma) - L_F*cos(gamma)*cos(theta)*cos(alpha + omega + sigma) - x_o*((sin(beta)*sin(theta) + sin(alpha + omega + sigma)*cos(beta)*cos(theta))*cos(gamma) + sin(gamma)*cos(theta)*cos(alpha + omega + sigma)) + y_o*(sin(beta)*sin(alpha + omega + sigma)*cos(theta) - sin(theta)*cos(beta)) + z_o*((sin(beta)*sin(theta) + sin(alpha + omega + sigma)*cos(beta)*cos(theta))*sin(gamma) - cos(gamma)*cos(theta)*cos(alpha + omega + sigma)) - (L_D + L_E)*sin(theta)"
      ]
     },
     "metadata": {},
     "output_type": "display_data"
    }
   ],
   "source": [
    "display((matrix_I_to_O * matrix_II_to_I * matrix_III_to_II * matrix_IV_to_III * matrix_V_to_IV * matrix_VI_to_V * relative_coordinates)[0,0])\n",
    "\n",
    "display(sym.simplify((matrix_I_to_O * matrix_II_to_I * matrix_III_to_II * matrix_IV_to_III * matrix_V_to_IV * matrix_VI_to_V * relative_coordinates)[0,0]))\n"
   ]
  },
  {
   "cell_type": "code",
   "execution_count": null,
   "id": "35d08951",
   "metadata": {},
   "outputs": [],
   "source": []
  }
 ],
 "metadata": {
  "kernelspec": {
   "display_name": "Python 3 (ipykernel)",
   "language": "python",
   "name": "python3"
  },
  "language_info": {
   "codemirror_mode": {
    "name": "ipython",
    "version": 3
   },
   "file_extension": ".py",
   "mimetype": "text/x-python",
   "name": "python",
   "nbconvert_exporter": "python",
   "pygments_lexer": "ipython3",
   "version": "3.10.7"
  }
 },
 "nbformat": 4,
 "nbformat_minor": 5
}
