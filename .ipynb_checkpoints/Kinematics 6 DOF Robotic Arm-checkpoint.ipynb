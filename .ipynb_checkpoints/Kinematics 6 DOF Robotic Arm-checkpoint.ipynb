{
 "cells": [
  {
   "cell_type": "code",
   "execution_count": 2,
   "id": "dbd7cdf3",
   "metadata": {},
   "outputs": [],
   "source": [
    "import sympy as sym\n",
    "import numpy as num\n",
    "import plotly as plot\n"
   ]
  },
  {
   "cell_type": "code",
   "execution_count": 16,
   "id": "640bbb9f",
   "metadata": {},
   "outputs": [
    {
     "data": {
      "text/latex": [
       "$\\displaystyle \\left[\\begin{matrix}1 & 0 & 0\\\\0 & \\cos{\\left(\\theta \\right)} & - \\sin{\\left(\\theta \\right)}\\\\0 & \\sin{\\left(\\theta \\right)} & \\cos{\\left(\\theta \\right)}\\end{matrix}\\right]$"
      ],
      "text/plain": [
       "Matrix([\n",
       "[1,          0,           0],\n",
       "[0, cos(theta), -sin(theta)],\n",
       "[0, sin(theta),  cos(theta)]])"
      ]
     },
     "metadata": {},
     "output_type": "display_data"
    },
    {
     "data": {
      "text/latex": [
       "$\\displaystyle \\left[\\begin{matrix}\\cos{\\left(\\theta \\right)} & 0 & \\sin{\\left(\\theta \\right)}\\\\0 & 1 & 0\\\\- \\sin{\\left(\\theta \\right)} & 0 & \\cos{\\left(\\theta \\right)}\\end{matrix}\\right]$"
      ],
      "text/plain": [
       "Matrix([\n",
       "[ cos(theta), 0, sin(theta)],\n",
       "[          0, 1,          0],\n",
       "[-sin(theta), 0, cos(theta)]])"
      ]
     },
     "metadata": {},
     "output_type": "display_data"
    },
    {
     "data": {
      "text/latex": [
       "$\\displaystyle \\left[\\begin{matrix}\\cos{\\left(\\theta \\right)} & - \\sin{\\left(\\theta \\right)} & 0\\\\\\sin{\\left(\\theta \\right)} & \\cos{\\left(\\theta \\right)} & 0\\\\0 & 0 & 1\\end{matrix}\\right]$"
      ],
      "text/plain": [
       "Matrix([\n",
       "[cos(theta), -sin(theta), 0],\n",
       "[sin(theta),  cos(theta), 0],\n",
       "[         0,           0, 1]])"
      ]
     },
     "metadata": {},
     "output_type": "display_data"
    }
   ],
   "source": [
    "class Invalid_Input_Argument(Exception):\n",
    "    \"\"\"\n",
    "    This is a custom exception class to detect invalid input argument values\n",
    "    \"\"\"\n",
    "    def __init__(self, function_argument: str, function_name: str) -> None:\n",
    "        \"\"\"\n",
    "        Parameters\n",
    "        ----------\n",
    "        function_argument:str\n",
    "            A string containing the name of the function parameter to specify.\n",
    "        function_name:str\n",
    "            A string containing the name of the function which contains the parameter of interest.\n",
    "        \"\"\"\n",
    "        print(f\"Invalid input argument value for argument \\\"{function_argument}\\\"\")\n",
    "        print(f\"calling the method: \\\"{function_name}.help\\(\\)\\\", displays the function \\\n",
    "              documentation and its expected input argument values\")\n",
    "\n",
    "def homogeneous_transformation_matrix(axis_rotation: str, rotation_displacement: int or float, origin_displacement: tuple or list):\n",
    "    \"\"\"\n",
    "    Parameters\n",
    "    ----------\n",
    "    axis_rotation:str\n",
    "        A string specifying the axis of rotation. Allowed input values: x, y, z.\n",
    "    rotation_displacement:int or float\n",
    "        A number specifying the angular displacement of the rotation in degrees.\n",
    "    origin_displacement:tuple or list\n",
    "        A tuple or list containing in order the x, y and z axis displacement of the relative origin.\n",
    "        \n",
    "    Returns\n",
    "    -------\n",
    "    \n",
    "    \"\"\"\n",
    "    axis_x, axis_y, axis_z = sym.symbols(\"x, y, z\")\n",
    "    angle_I, angle_II, angle_III, angle_IV, angle_V, angle_VI = sym.symbols(\"theta, sigma, omega, alpha, beta, gamma\") \n",
    "\n",
    "    # Elemental rotation matrices\n",
    "    if axis_rotation == 'x' or 'X':\n",
    "        # Relative origin rotation with respect to x axis.\n",
    "        rotation_axis = sym.Matrix([[1, 0, 0],\n",
    "                                    [0, sym.cos(angle_I), -sym.sin(angle_I)],\n",
    "                                    [0, sym.sin(angle_I), sym.cos(angle_I)]])\n",
    "    elif axis_rotation == 'y' or 'Y':\n",
    "        # Relative origin rotation with respect to y axis.\n",
    "        rotation_axis = sym.Matrix([[sym.cos(angle_I), 0, sym.sin(angle_I)],\n",
    "                                    [0, 1, 0],\n",
    "                                    [-sym.sin(angle_I), 0, sym.cos(angle_I)]])\n",
    "    elif axis_rotation == 'z' or 'Z':\n",
    "        # Relative origin rotation with respect to z axis.\n",
    "        rotation_axis = sym.Matrix([[sym.cos(angle_I), -sym.sin(angle_I), 0],\n",
    "                                    [sym.sin(angle_I), sym.cos(angle_I), 0],\n",
    "                                    [0, 0, 1]])\n",
    "    else:\n",
    "        # Breaks the function execution\n",
    "        raise Invalid_Input_Argument(\"axis_rotation\", \"homogeneous_transformation_matrix\")\n"
   ]
  },
  {
   "cell_type": "code",
   "execution_count": null,
   "id": "855ec90f",
   "metadata": {},
   "outputs": [],
   "source": [
    "\n",
    "try:\n",
    "        print(\"Main function\")\n",
    "        \n",
    "except Invalid_Input_Argument:\n",
    "    continue\n",
    "    \n"
   ]
  }
 ],
 "metadata": {
  "kernelspec": {
   "display_name": "Python 3 (ipykernel)",
   "language": "python",
   "name": "python3"
  },
  "language_info": {
   "codemirror_mode": {
    "name": "ipython",
    "version": 3
   },
   "file_extension": ".py",
   "mimetype": "text/x-python",
   "name": "python",
   "nbconvert_exporter": "python",
   "pygments_lexer": "ipython3",
   "version": "3.10.7"
  }
 },
 "nbformat": 4,
 "nbformat_minor": 5
}
